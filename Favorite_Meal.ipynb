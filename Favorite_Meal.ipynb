{
  "nbformat": 4,
  "nbformat_minor": 0,
  "metadata": {
    "colab": {
      "name": "Favorite Meal.ipynb",
      "version": "0.3.2",
      "provenance": [],
      "collapsed_sections": [],
      "toc_visible": true,
      "include_colab_link": true
    },
    "kernelspec": {
      "name": "python3",
      "display_name": "Python 3"
    }
  },
  "cells": [
    {
      "cell_type": "markdown",
      "metadata": {
        "id": "view-in-github",
        "colab_type": "text"
      },
      "source": [
        "<a href=\"https://colab.research.google.com/github/ArthiRamesh/arthi-s-respository/blob/master/Favorite_Meal.ipynb\" target=\"_parent\"><img src=\"https://colab.research.google.com/assets/colab-badge.svg\" alt=\"Open In Colab\"/></a>"
      ]
    },
    {
      "cell_type": "code",
      "metadata": {
        "id": "aZ3wMTg26Ce5",
        "colab_type": "code",
        "colab": {
          "base_uri": "https://localhost:8080/",
          "height": 122
        },
        "outputId": "1c320051-c2d6-47cf-9500-33a04d1ffe34"
      },
      "source": [
        "from google.colab import drive\n",
        "drive.mount('/content/drive')"
      ],
      "execution_count": 1,
      "outputs": [
        {
          "output_type": "stream",
          "text": [
            "Go to this URL in a browser: https://accounts.google.com/o/oauth2/auth?client_id=947318989803-6bn6qk8qdgf4n4g3pfee6491hc0brc4i.apps.googleusercontent.com&redirect_uri=urn%3Aietf%3Awg%3Aoauth%3A2.0%3Aoob&scope=email%20https%3A%2F%2Fwww.googleapis.com%2Fauth%2Fdocs.test%20https%3A%2F%2Fwww.googleapis.com%2Fauth%2Fdrive%20https%3A%2F%2Fwww.googleapis.com%2Fauth%2Fdrive.photos.readonly%20https%3A%2F%2Fwww.googleapis.com%2Fauth%2Fpeopleapi.readonly&response_type=code\n",
            "\n",
            "Enter your authorization code:\n",
            "··········\n",
            "Mounted at /content/drive\n"
          ],
          "name": "stdout"
        }
      ]
    },
    {
      "cell_type": "code",
      "metadata": {
        "id": "okoWItvu9Rpa",
        "colab_type": "code",
        "colab": {
          "base_uri": "https://localhost:8080/",
          "height": 374
        },
        "outputId": "b9f2a107-79e7-4d08-a7a2-d00d902b7cdf"
      },
      "source": [
        "import pandas as pd\n",
        "from pandas import DataFrame\n",
        "food_data=pd.read_csv(\"/content/drive/My Drive/Colab Notebooks/food_data.csv\")\n",
        "df=pd.DataFrame(food_data, columns=['id','brand','features_value','manufacturer','name','weight'])\n",
        "df.head(5)"
      ],
      "execution_count": 25,
      "outputs": [
        {
          "output_type": "execute_result",
          "data": {
            "text/html": [
              "<div>\n",
              "<style scoped>\n",
              "    .dataframe tbody tr th:only-of-type {\n",
              "        vertical-align: middle;\n",
              "    }\n",
              "\n",
              "    .dataframe tbody tr th {\n",
              "        vertical-align: top;\n",
              "    }\n",
              "\n",
              "    .dataframe thead th {\n",
              "        text-align: right;\n",
              "    }\n",
              "</style>\n",
              "<table border=\"1\" class=\"dataframe\">\n",
              "  <thead>\n",
              "    <tr style=\"text-align: right;\">\n",
              "      <th></th>\n",
              "      <th>id</th>\n",
              "      <th>brand</th>\n",
              "      <th>features_value</th>\n",
              "      <th>manufacturer</th>\n",
              "      <th>name</th>\n",
              "      <th>weight</th>\n",
              "    </tr>\n",
              "  </thead>\n",
              "  <tbody>\n",
              "    <tr>\n",
              "      <th>0</th>\n",
              "      <td>1</td>\n",
              "      <td>Simon Fischer</td>\n",
              "      <td>Dried Prunes,Water,Corn Syrup,Sugar,Pectin.</td>\n",
              "      <td>Sokol And Company</td>\n",
              "      <td>Simon Fischer Fruit Bttr Prune Lekvar</td>\n",
              "      <td>10.6 pounds</td>\n",
              "    </tr>\n",
              "    <tr>\n",
              "      <th>1</th>\n",
              "      <td>2</td>\n",
              "      <td>McCormick</td>\n",
              "      <td>Salt,Sugar,Molasses (Refinery Syrup, Molasses,...</td>\n",
              "      <td>McCormick &amp; Co, Inc</td>\n",
              "      <td>McCORMICK GRILL MATES MOLASSES BACON SEASONING...</td>\n",
              "      <td>3.5 ounces</td>\n",
              "    </tr>\n",
              "    <tr>\n",
              "      <th>2</th>\n",
              "      <td>3</td>\n",
              "      <td>Jolly Time</td>\n",
              "      <td>Salt, Yellow 5 Lake, Tricalcium Phosphate And ...</td>\n",
              "      <td>Reese's</td>\n",
              "      <td>Jolly Time Popcorn</td>\n",
              "      <td>1.8 pounds</td>\n",
              "    </tr>\n",
              "    <tr>\n",
              "      <th>3</th>\n",
              "      <td>4</td>\n",
              "      <td>Ziyad</td>\n",
              "      <td>Mechanically hulled seasame seeds.Allergy Info...</td>\n",
              "      <td>Ziyad</td>\n",
              "      <td>Ziyad Tahini Sesame Sauce</td>\n",
              "      <td>1.6 pounds</td>\n",
              "    </tr>\n",
              "    <tr>\n",
              "      <th>4</th>\n",
              "      <td>5</td>\n",
              "      <td>Fla-Vor-Ice</td>\n",
              "      <td>NaN</td>\n",
              "      <td>Fla-Vor-Ice</td>\n",
              "      <td>Fla-Vor-Ice Plus Giant Pops</td>\n",
              "      <td>18 pounds</td>\n",
              "    </tr>\n",
              "  </tbody>\n",
              "</table>\n",
              "</div>"
            ],
            "text/plain": [
              "   id  ...       weight\n",
              "0   1  ...  10.6 pounds\n",
              "1   2  ...   3.5 ounces\n",
              "2   3  ...   1.8 pounds\n",
              "3   4  ...   1.6 pounds\n",
              "4   5  ...    18 pounds\n",
              "\n",
              "[5 rows x 6 columns]"
            ]
          },
          "metadata": {
            "tags": []
          },
          "execution_count": 25
        }
      ]
    },
    {
      "cell_type": "code",
      "metadata": {
        "id": "svGX19SjAbt3",
        "colab_type": "code",
        "colab": {
          "base_uri": "https://localhost:8080/",
          "height": 377
        },
        "outputId": "109605d4-d377-48dd-ff09-0061bdaaf812"
      },
      "source": [
        "!pip install tensorflow"
      ],
      "execution_count": 17,
      "outputs": [
        {
          "output_type": "stream",
          "text": [
            "Requirement already satisfied: tensorflow in /usr/local/lib/python3.6/dist-packages (1.14.0)\n",
            "Requirement already satisfied: grpcio>=1.8.6 in /usr/local/lib/python3.6/dist-packages (from tensorflow) (1.15.0)\n",
            "Requirement already satisfied: keras-preprocessing>=1.0.5 in /usr/local/lib/python3.6/dist-packages (from tensorflow) (1.1.0)\n",
            "Requirement already satisfied: google-pasta>=0.1.6 in /usr/local/lib/python3.6/dist-packages (from tensorflow) (0.1.7)\n",
            "Requirement already satisfied: tensorflow-estimator<1.15.0rc0,>=1.14.0rc0 in /usr/local/lib/python3.6/dist-packages (from tensorflow) (1.14.0)\n",
            "Requirement already satisfied: protobuf>=3.6.1 in /usr/local/lib/python3.6/dist-packages (from tensorflow) (3.7.1)\n",
            "Requirement already satisfied: wheel>=0.26 in /usr/local/lib/python3.6/dist-packages (from tensorflow) (0.33.4)\n",
            "Requirement already satisfied: absl-py>=0.7.0 in /usr/local/lib/python3.6/dist-packages (from tensorflow) (0.7.1)\n",
            "Requirement already satisfied: six>=1.10.0 in /usr/local/lib/python3.6/dist-packages (from tensorflow) (1.12.0)\n",
            "Requirement already satisfied: astor>=0.6.0 in /usr/local/lib/python3.6/dist-packages (from tensorflow) (0.8.0)\n",
            "Requirement already satisfied: tensorboard<1.15.0,>=1.14.0 in /usr/local/lib/python3.6/dist-packages (from tensorflow) (1.14.0)\n",
            "Requirement already satisfied: termcolor>=1.1.0 in /usr/local/lib/python3.6/dist-packages (from tensorflow) (1.1.0)\n",
            "Requirement already satisfied: keras-applications>=1.0.6 in /usr/local/lib/python3.6/dist-packages (from tensorflow) (1.0.8)\n",
            "Requirement already satisfied: wrapt>=1.11.1 in /usr/local/lib/python3.6/dist-packages (from tensorflow) (1.11.2)\n",
            "Requirement already satisfied: numpy<2.0,>=1.14.5 in /usr/local/lib/python3.6/dist-packages (from tensorflow) (1.16.4)\n",
            "Requirement already satisfied: gast>=0.2.0 in /usr/local/lib/python3.6/dist-packages (from tensorflow) (0.2.2)\n",
            "Requirement already satisfied: setuptools in /usr/local/lib/python3.6/dist-packages (from protobuf>=3.6.1->tensorflow) (41.0.1)\n",
            "Requirement already satisfied: markdown>=2.6.8 in /usr/local/lib/python3.6/dist-packages (from tensorboard<1.15.0,>=1.14.0->tensorflow) (3.1.1)\n",
            "Requirement already satisfied: werkzeug>=0.11.15 in /usr/local/lib/python3.6/dist-packages (from tensorboard<1.15.0,>=1.14.0->tensorflow) (0.15.5)\n",
            "Requirement already satisfied: h5py in /usr/local/lib/python3.6/dist-packages (from keras-applications>=1.0.6->tensorflow) (2.8.0)\n"
          ],
          "name": "stdout"
        }
      ]
    },
    {
      "cell_type": "code",
      "metadata": {
        "id": "KpPVWN7BCOZ7",
        "colab_type": "code",
        "colab": {
          "base_uri": "https://localhost:8080/",
          "height": 34
        },
        "outputId": "ef490bf4-03c5-4fb6-b633-21a75e4cd681"
      },
      "source": [
        "import tensorflow as tf\n",
        "print(tf.__version__)"
      ],
      "execution_count": 18,
      "outputs": [
        {
          "output_type": "stream",
          "text": [
            "1.14.0\n"
          ],
          "name": "stdout"
        }
      ]
    },
    {
      "cell_type": "code",
      "metadata": {
        "id": "ineaPIF3ChWb",
        "colab_type": "code",
        "colab": {}
      },
      "source": [
        "import sklearn\n",
        "\n",
        "\n",
        "\n",
        "from sklearn.feature_extraction.text import TfidfVectorizer\n",
        "\n",
        "#Term Frequency-Inverse Document Frequency (TF-IDF) vectors to \n",
        "tfidf = TfidfVectorizer(stop_words='english')\n",
        "\n",
        "food_data['features_value'] = food_data['features_value'].fillna('')\n",
        "\n",
        "\n",
        "tfidf_matrix = tfidf.fit_transform(food_data['features_value'])\n",
        "\n",
        "#tfidf_matrix.shape \n",
        "\n",
        "from sklearn.metrics.pairwise import linear_kernel\n",
        "\n",
        "\n",
        "cosine_sim = linear_kernel(tfidf_matrix, tfidf_matrix)\n",
        "\n",
        "indices = pd.Series(food_data.index, index=food_data['name']).drop_duplicates()\n",
        "\n",
        "#content-based filtering\n",
        "\n",
        "def get_favorite_meal(name, cosine_sim=cosine_sim):\n",
        "\n",
        "    idx = indices[name]\n",
        "\n",
        "    sim_scores = list(enumerate(cosine_sim[idx]))\n",
        "\n",
        "    sim_scores = sorted(sim_scores, key=lambda x: x[1], reverse=True)\n",
        "\n",
        "    sim_scores = sim_scores[1:11]\n",
        "\n",
        "    food_indices = [i[0] for i in sim_scores]\n",
        "    meals = food_data.iloc[food_indices][['name', 'features_value']]\n",
        "  \n",
        "    return meals\n",
        "  \n"
      ],
      "execution_count": 0,
      "outputs": []
    },
    {
      "cell_type": "code",
      "metadata": {
        "id": "vcaoCFgXY4Vn",
        "colab_type": "code",
        "colab": {
          "base_uri": "https://localhost:8080/",
          "height": 54
        },
        "outputId": "c649043e-3300-421b-aed5-bececb977483"
      },
      "source": [
        "print(tfidf.get_feature_names())"
      ],
      "execution_count": 120,
      "outputs": [
        {
          "output_type": "stream",
          "text": [
            "['00', '000', '001', '005', '006', '00trans', '010215', '0160', '01oz', '02', '028', '02g', '03', '04', '042', '05', '05mg', '05oz', '06', '069', '07012', '093', '0g', '0g0sugar16g160protein1g160vitamin', '0mg', '0mg0sodium115mg5total', '0mg0sodium15mg1total', '0mg0sodium30mg1total', '0mg0sodium40mg2total', '0oz', '10', '100', '1000mg', '1005', '100g', '103g', '104', '105', '106', '10nutrientamount', '10th', '11', '110', '1100', '11066', '113g', '114', '115', '118g', '1190', '11g', '11nutrientamount', '12', '120', '120g', '120mcg', '1222', '124', '125', '12g', '12nutrientamount', '13', '130', '131', '1310', '137', '13766', '138', '13nutrientamount', '13pieces', '14', '140', '140g', '143', '144', '14g', '14nutrientamount', '15', '150', '150a', '150c', '150d', '150g', '150mg', '15793', '15g', '15nutrientamount', '16', '160', '1600', '16015folic', '16035', '160almonds', '160cashews', '160cholesterol', '160corn', '160dehydrated', '160enriched', '160gx5', '160pistachios', '160protein0g160vitamin', '160sugar', '16g', '16g5fiber3g12sugars12g160protein7g9vitamin', '16nutrientamount', '17', '170', '1706', '17092', '170g', '17g', '18', '181', '18147', '18190', '184', '185', '1873', '189g', '18g', '18kcal', '19', '190', '1902', '190g', '1922', '1925', '1980', '1994', '1996', '1997', '1999', '19g', '19th', '1g', '1g0dietary', '1gservings', '1ml', '1nutrientamount', '1oz', '1servings', '1tsp', '20', '200', '2000', '2004', '2007', '2008', '2009', '200g', '2010', '2011', '2012', '2014', '2015', '202', '205g', '207', '20g', '20g7fiber3g12sugars13g160protein4g3vitamin', '20mg', '21', '210', '215', '216', '21811', '21g', '21g7fiber4g15soluble', '21nutrientamount', '22', '220', '222', '224', '227', '22852', '22mg', '23', '230', '231closely', '235g', '237ml', '23g', '23nutrientamount', '24', '240mg', '240ml', '24307', '243ml', '245gservings', '24801', '24g', '24nutrientamount', '25', '250', '250mg', '255', '25g', '25servings', '26', '266', '266g', '26g', '27', '2739', '277', '27g', '28', '285', '28g', '28gservings', '29', '290', '293', '29g', '2g', '2lake', '2ml', '2nutrientamount', '2oz', '30', '300', '3000', '300mcg', '304', '307', '30c16', '30g', '30g10fiber3g12sugars22g160protein4g160vitamin', '30gservings', '30nutrientamount', '30ppm', '30th', '31', '310mg', '316', '32', '320g', '322', '326005', '327005', '32c14', '32g', '32mg', '32nutrientamount', '33', '330', '331', '332', '334', '339', '34', '347kcal', '35', '350', '351', '354ml', '35g', '35gservings', '36', '3688', '368g', '37', '370', '375', '38', '380g', '385', '38g', '39', '3g', '3oz', '40', '400', '404', '40g', '40mg13sodium750mg31potassium580mg17total', '40nutrientamount', '40sodium', '41', '41018', '410g', '412', '415', '4184', '42', '4221', '424724', '43', '4311', '44', '45', '4512', '452', '4520', '4521', '46', '460mg', '47', '470', '47020', '471', '473ml', '475', '476', '48', '480', '48g', '49', '4g', '4g1fiber1g5sugars3g160protein2g160vitamin', '4nutrientamount', '4oz', '4pc', '4r', '50', '500', '500ii', '500mg', '501', '508', '50g', '51', '510', '52', '526', '5282', '53', '54', '54mg', '55', '551', '55oz', '56', '560', '57', '58', '59', '5c12', '5c18', '5g', '5g11trans', '5g12sodium140mg6sugars3g160protein7g160', '5g12trans', '5g13trans', '5g160cholest', '5g160cholesterol0mg0sodium100mg4potassium30mg1total', '5g160cholesterol0mg0sodium70mg3total', '5g160cholesterollt5mg1sodium830mg35potassiummg160total', '5g160monounsat', '5g160monounsaturated', '5g160saturated', '5g160trans', '5g18trans', '5g1saturated', '5g23trans', '5g2saturated', '5g2sodium140mg6total', '5g2sodium190mg8sugar9g160fibre5g19iron16090', '5g2trans', '5g3polyunsaturated', '5g3sodium250mg10total', '5g3trans', '5g4sat', '5g4saturated', '5g5sat', '5g6trans', '5g7trans', '5g8polyunsaturated', '5g8trans', '5lbs', '5ml', '5mlservings', '5nutrientamount', '5oz', '5x7', '60', '6002', '6057', '6083', '6086', '6087', '60c14', '60g', '61', '610', '6101', '6132', '61568', '6173', '62', '621', '627', '63', '631', '632', '63nutrientamount', '64', '6400', '6404', '6406', '645', '65', '6501', '65g', '66', '6621', '6673', '6677', '6695', '66g', '67', '6700', '6701', '6710', '6711', '6740', '6741', '67oz', '68', '68439', '6864', '68c12', '68mg', '69', '6925', '6941', '6mg', '6nutrientamount', '6oz', '70', '7020', '7023', '70914', '70mg', '71', '72', '72mg', '73', '74', '740', '75', '750', '750ml', '754', '75oz', '76', '768', '76nutrientamount', '77', '7732', '777', '78', '79', '7g', '7nutrientamount', '7oz', '7oz1', '80', '800', '802126912799', '803', '81', '813', '815', '8175', '82', '83', '8328', '84', '846', '85', '85oz', '86', '866', '87', '88', '888', '89', '8g', '8nutrientamount', '8oz', '90', '901', '9039', '90402', '90g', '90mg', '92', '93', '93g', '94', '95', '95plus', '96', '9623', '97', '98', '980', '99', '990', '995', '9cream', '9nutrientamount', '9preservative', '9vitamin', '9wheat', '_x000d_contains', 'a1', 'a1600calcium1600vitamin', 'a1600vit', 'a1600vitamin', 'a16010vitamin', 'a16015vitamin', 'a16016010vitamin', 'a16016020vitamin', 'a16020', 'a16020vitamin', 'a1602vitamin', 'a16030vitamin', 'a16035vitamin', 'a1604vitamin', 'a16050vitamin', 'a160nsvitamin', 'a160vitamin', 'aa', 'aai', 'abalone', 'abba', 'abbreviations', 'abietate', 'able', 'absolutely', 'absorbed', 'absorbent', 'absorbic', 'abv', 'abyssinica', 'ac', 'acacia', 'acacianatural', 'acai', 'acaia', 'accesflame', 'access', 'accid', 'accidental', 'accompanying', 'according', 'accounts', 'aceite', 'aceitunas', 'acerola', 'acesfulfame', 'acesulfam', 'acesulfame', 'acesylfame', 'acetate', 'acetatevitamin', 'acetic', 'aceto', 'acetyl', 'acetylated', 'aceulfame', 'achiote', 'aci', 'acid', 'acid160', 'acid16010', 'acidgum', 'acidic', 'acidifier', 'acidifying', 'acidity', 'acido', 'acidophillus', 'acidophilus', 'acids', 'acidsodium', 'acidsoy', 'acidulant', 'acidulants', 'acidvitamin', 'acidvolume', 'acidwaterwhole', 'acres', 'acrylamide', 'acrylate', 'acrylates', 'acryloyldimethyltaurate', 'acting', 'actinic', 'active', 'activin', 'activity', 'actually', 'acute', 'acutifola', 'acutifolia', 'ada', 'add', 'added', 'addedbrowned', 'addedchopped', 'addeddaves', 'addictive', 'adding', 'addition', 'additional', 'additionally', 'additions', 'additive', 'additives', 'adds', 'adequate', 'adhatoda', 'adipic', 'adjust', 'adjusted', 'adjuster', 'administration', 'adobo', 'adopt', 'adorable', 'adore', 'adults', 'advanced', 'adventure', 'adverse', 'advice', 'advisory', 'adzuki', 'aegle', 'aestivum', 'afar', 'afent', 'affect', 'affected', 'affectionately', 'affiliated', 'affiliation', 'afl', 'africa', 'african', 'afte', 'afternoon', 'agar', 'agave', 'age', 'aged', 'agent', 'agents', 'aggressive', 'aging', 'agnus', 'ago', 'agriculture', 'agua', 'ahd', 'ahmed', 'ahoy', 'ai', 'aid', 'aids', 'ainiseed', 'air', 'airheads', 'aitolized', 'aji', 'ajwain', 'aka', 'akali', 'alanine', 'alapeno', 'alaska', 'alaskan', 'alba', 'albacares', 'albacore', 'alberts', 'albumen', 'albumin', 'alchemists', 'alcohol', 'alcohol0g160protein5g160vitamin', 'alcohol1g160protein1g160vitamin', 'alcoholic', 'alcohols', 'alder', 'alderwood', 'ale', 'aleppo', 'alert', 'alessi', 'alfalfa', 'algae', 'algaecal', 'algal', 'algin', 'alginate', 'alginic', 'algodon', 'align', 'alike', 'alizes', 'alkali', 'alkaline', 'alkalized', 'alkaloids', 'alkyl', 'alkylbenzene', 'allantoin', 'allen', 'allergen', 'allergenic', 'allergens', 'allergic', 'allergies', 'allergy', 'alliance', 'allow', 'allowing', 'allows', 'allspice', 'alluminated', 'allura', 'almidon', 'almond', 'almondmilk', 'almonds', 'almondshappy', 'almondsmeyer', 'aloe', 'alpha', 'alphonso', 'alpine', 'alter', 'alternates', 'alternative', 'alternifolia', 'althaea', 'altitudes', 'altura', 'alum', 'aluminate', 'aluminio', 'aluminosilicate', 'aluminum', 'amalase', 'amaranth', 'amarena', 'amaretto', 'amarillos', 'amazing', 'amazon', 'amber', 'ambrosia', 'amchur', 'america', 'american', 'americas', 'amigos', 'amine', 'amino', 'aminomethyl', 'aminos', 'amish', 'ammonia', 'ammoniac', 'ammoniacsalt', 'ammonium', 'amounts', 'amp', 'amt', 'amylase', 'anacardium', 'anaheim', 'ancestor', 'ancho', 'anchored', 'anchovies', 'anchovy', 'ancient', 'andcitric', 'andcoconut', 'anddisodium', 'andouille', 'andrographis', 'angelica', 'angelino', 'angels', 'angustifolia', 'anhui', 'anhydrous', 'animal', 'animals', 'anionic', 'anise', 'aniseed', 'aniseedoil', 'anjou', 'annato', 'annatto', 'anntto', 'annual', 'annually', 'annuus', 'anthers', 'anthocyanin', 'anthocyanins', 'anti', 'antibiotic', 'anticaking', 'antidote', 'antifoam', 'antimicrobial', 'antioxidant', 'antioxidants', 'antioxident', 'antioxidiant', 'antiseptic', 'aos', 'apo', 'apocaratenal', 'apocarotenal', 'apocynym', 'appeal', 'appear', 'appels', 'appetizer', 'apple', 'appleboost', 'apples', 'applesauce', 'applespackaged', 'applewood', 'apply', 'appreciated', 'approach', 'approachable', 'approved', 'approx', 'approximately', 'apricot', 'apricots', 'aqua', 'aquamin', 'aqueous', 'aquifer', 'arabic', 'arabica', 'arabicacoffee', 'arabicas', 'arabinogalactan', 'arbol', 'arborea', 'arborio', 'arco', 'area', 'argentina', 'ariake', 'armagnac', 'aroma', 'aromas', 'aromaseal', 'aromates', 'aromatic', 'aromaticum', 'aronia', 'arrangement', 'array', 'arrowroot', 'art', 'artesian', 'arthur', 'artic', 'artichoke', 'artichokes', 'articial', 'articificial', 'artifical', 'artificial', 'artificialand', 'artificialcolor', 'artificialcolors', 'artificialflavors', 'artificiallly', 'artificially', 'artifiical', 'artiicial', 'artisanal', 'artise', 'artistic', 'artists', 'arugula', 'arythritol', 'asadero', 'asafetida', 'asafoetida', 'ascorbate', 'ascorbic', 'ascorbicacid', 'ascorbyl', 'ascrobic', 'ashwagandha', 'asia', 'asiago', 'asian', 'asorbic', 'asparagus', 'aspartame', 'aspera', 'aspergillus', 'aspertame', 'assam', 'assertive', 'assists', 'assorbic', 'assorted', 'assortment', 'asst', 'assurance', 'astaxanthin', 'astragalus', 'atlantic', 'atop', 'attention', 'attractive', 'au', 'aubergines', 'audit', 'aurantium', 'australia', 'australian', 'authentic', 'autholyzed', 'autolysed', 'autolyzate', 'autolyzed', 'autoylzed', 'autumn', 'availability', 'available', 'avena', 'avenue', 'avocado', 'avoid', 'avola', 'away', 'awesome', 'azodicarbonamide', 'azodicarbonimide', 'aztec', 'azucar', 'azuki', 'b1', 'b12', 'b12160', 'b12vitamin', 'b13', 'b1riboflavinvitamin', 'b1vitamin', 'b2', 'b216010phosphorus16015magnesium16020copper16020manganese16020molybdenum16010ingredients', 'b2folic', 'b2thiamin', 'b2vitamin', 'b3', 'b5', 'b6', 'b6160', 'b6riboflavinvitamin', 'b6thiamin', 'b7', 'b9', 'babies', 'baby', 'bacillus', 'background', 'backing', 'backpack', 'backstage', 'bacon', 'bacteria', 'bacterial', 'baden', 'badger', 'bag', 'bagel', 'bags', 'bagsblack', 'bahlsens', 'bait', 'baja', 'bake', 'baked', 'baker', 'bakers', 'bakery', 'baking', 'baklava', 'balance', 'balanced', 'bali', 'balinese', 'balls', 'balm', 'balsamic', 'balsamico', 'bamboo', 'banana', 'bananas', 'bangor', 'banzoate', 'baobab', 'bar', 'barbadensis', 'barbarum', 'barbecue', 'barbeque', 'barberry', 'barely', 'bark', 'barley', 'barrie', 'bars', 'barsall', 'barservings', 'base', 'based', 'basic', 'basil', 'basket', 'baskets', 'basmati', 'batata', 'batch', 'batches', 'bath', 'batter', 'battered', 'batters', 'bay', 'bazookabubblegumfilledpops', 'bb', 'bbq', 'bc', 'bcs', 'bctgm', 'beach', 'bead', 'bean', 'beans', 'beansprouts', 'bear', 'bearington', 'bearingtona', 'bearly', 'bears', 'beat', 'beautiful', 'beauty', 'bedrooms', 'bedtime', 'bee', 'beechwood', 'beed', 'beef', 'beefhide', 'beer', 'bees', 'beeswax', 'beet', 'beetroot', 'beets', 'began', 'beginning', 'belgian', 'believe', 'belizian', 'bell', 'bellies', 'belly', 'beneficial', 'benefits', 'benelux', 'bengal', 'bengalgram', 'benne', 'benoate', 'bensoate', 'benzaldehyde', 'benzoate', 'benzoic', 'benzonate', 'benzyl', 'bergamot', 'berries', 'berry', 'bertolli', 'bes', 'best', 'beta', 'betacarotene', 'betaine', 'betalains', 'betalins', 'better', 'bettered', 'beverage', 'beverages', 'bha', 'bhq', 'bht', 'bhut', 'bi', 'bianco', 'biblical', 'bicarb', 'bicarbonate', 'bicarbonated', 'bicarbonates', 'bicarbonato', 'bicarboniate', 'bidifus', 'bienestar', 'bifidobacterium', 'bifidum', 'bifidus', 'big', 'bigleaguebubblegumfilledpops', 'bigtreeclimatefund', 'bilberries', 'bilberry', 'bile', 'biloba', 'biltong', 'binding', 'bio', 'bioactive', 'bioagricert', 'biodegradable', 'biodegradeable', 'biodynamic', 'biodynamically', 'bioflavonoids', 'biotechnology', 'biotic', 'biotin', 'biovar', 'birch', 'bird', 'birds', 'birth', 'birthday', 'biscotti', 'biscuit', 'biscuits', 'bisulfate', 'bisulfite', 'bisulfites', 'bisulphite', 'bisulsite', 'bitartrate', 'bite', 'bites', 'bitingly', 'bits', 'bitter', 'bitterness', 'bittersweet', 'bl', 'black', 'blackberries', 'blackberry', 'blackcurrant', 'blackcurrants', 'blackened', 'blackeye', 'blackout', 'blacks', 'blackstrap', 'blanched', 'blanqueada', 'blanquear', 'blast', 'blck', 'bleach', 'bleached', 'bleaching', 'blend', 'blended', 'blending', 'blendmaster', 'blends', 'blendtm', 'blenheim', 'blk', 'block', 'blonde', 'blondes', 'blondie', 'blood', 'blossom', 'blossoms', 'blow', 'blue', 'blue1', 'blue2', 'blueberries', 'blueberry', 'blueno', 'boar', 'board', 'boardwalks', 'boasting', 'boasts', 'boca', 'bodied', 'body', 'boehaevia', 'bog', 'boiled', 'boiling', 'bok', 'bold', 'boldo', 'bologna', 'bolted', 'bomba', 'bone', 'boneless', 'bones', 'boni', 'bonito', 'bonnet', 'bons', 'book', 'borage', 'borchii', 'bordeaux', 'borlotti', 'born', 'boron', 'bosc', 'botanicals', 'bottle', 'bottles', 'bouillon', 'boulder', 'bouquet', 'bouquets', 'bourbon', 'bovine', 'bow', 'bowl', 'box', 'boxed', 'boxes', 'boysenberries', 'bpa', 'br', 'brach', 'braeburn', 'bragg', 'brahmi', 'brain', 'bramley', 'bran', 'brand', 'brands', 'brandtrusted', 'brandy', 'brass', 'brazil', 'brazilian', 'brbr', 'brbrdirections', 'brbrkeep', 'bread', 'breadcrumb', 'breadcrumbs', 'breaded', 'breader', 'breading', 'breads', 'breadsticks', 'break', 'breakfast', 'breakings', 'bream', 'breast', 'breastcuredsmoke', 'breath', 'breathing', 'breeding', 'breeze', 'brew', 'brewed', 'brewer', 'brewers', 'brewing', 'brewingabetterworld', 'brews', 'brian', 'bridgford', 'brie', 'bright', 'brightening', 'brilliant', 'brine', 'bring', 'bringing', 'brisling', 'brite', 'british', 'brittle', 'brittlegodiva', 'brix', 'broad', 'broadway', 'broccoli', 'broil', 'broken', 'bromate', 'bromelain', 'brominated', 'brooklyn', 'broth', 'brother', 'brought', 'brown', 'browned', 'brownie', 'brownies', 'browniesall', 'browntop', 'brumale', 'brunch', 'bruschetta', 'bspfor', 'bst', 'btu', 'buanylate', 'bubble', 'bubbles', 'bubbling', 'buchwheat', 'buck', 'buckwheat', 'bucky', 'bud', 'budget', 'buds', 'budweiser', 'buffalo', 'buffalos', 'buffered', 'buffering', 'building', 'bulgar', 'bulgarian', 'bulgaricus', 'bulgur', 'bulk', 'bulking', 'bumped', 'bun', 'bundt', 'bunenriched', 'bunnies', 'bunny', 'burdock', 'burgers', 'burgundy', 'burlap', 'burning', 'burns', 'burnt', 'bursting', 'bush', 'business', 'busseto', 'bustelo', 'butoxypropanol', 'butter', 'butterbody', 'buttercream', 'buttered', 'butterfat', 'butterfinger', 'buttermilk', 'butternon', 'butternut', 'butteroil', 'butters', 'butterscotch', 'buttery', 'buttter', 'butylated', 'butylcarbamate', 'butylhydroquinone', 'butyris', 'buy', 'buying', 'byler', 'bylers', 'b₁', 'b₁₂', 'b₂', 'b₆', 'c10', 'c12', 'c13', 'c14', 'c16', 'c1600calcium1600iron1600', 'c1600calcium1600iron1600160sugar', 'c1600calcium1600iron1600copper160', 'c1600calcium1600iron1600ingredients', 'c1600calcium1600iron1602', 'c1600calcium1600iron1602ingredients', 'c1600calcium1600iron1606', 'c1600calcium1600iron1608', 'c1600calcium1602iron16010', 'c1600calcium1602iron1602', 'c1600calcium1602iron1604', 'c1600calcium1602iron1604ingredients', 'c1600calcium1602iron1604thiamin', 'c1600calcium1602iron1606', 'c1600calcium1602iron1608', 'c1600calcium1604iron16010', 'c1600calcium1604iron16010vitamin', 'c1600calcium1604iron1602', 'c1600calcium1604iron1604', 'c1600calcium1604iron1606', 'c1600calcium1604iron1608', 'c1600calcium1606iron16010ingredients', 'c1600calcium1606iron1606', 'c1600calcium1608iron16010', 'c1600calcium1608iron1604ingredients', 'c1600iron1600', 'c1600riboflavin1600thiamin1600niacin1600', 'c16010', 'c160100', 'c1601602calcium1601608iron1601606', 'c1601604calcium16016010iron1601604', 'c16025calcium1600iron1600', 'c1602calcium1600iron1600', 'c1602calcium1600iron1602', 'c1602calcium1600iron1604ingredients', 'c1602calcium1602iron16010cherry', 'c1604', 'c16045calcium1600iron1600', 'c1604calcium1600iron1604', 'c1604calcium1602iron1606', 'c16050calcium1600iron1602', 'c16050vitamin', 'c160calcium1604iron1606', 'c160nscalcium1604iron1608', 'c18', 'ca', 'caballa', 'cabb', 'cabbage', 'cabernet', 'cabin', 'cabonated', 'cacao', 'cactus', 'cafe', 'cafealtura', 'cafebustelo', 'caffe', 'caffeine', 'caffeinebr', 'caffeinne', 'caffiene', 'caffine', 'cage', 'cajun', 'cake', 'cakeartisan', 'cakedipping', 'cakeholiday', 'cakes', 'caking', 'cal', 'calangal', 'calcarea', 'calcio', 'calcium', 'calciumstearate', 'calculator', 'calendula', 'califlower', 'california', 'calimyrna', 'called', 'calling', 'caloric', 'calorie', 'calories', 'calories140160total', 'calpha', 'camauba', 'cambogia', 'came', 'camelia', 'camellia', 'camembert', 'camomile', 'camu', 'canada', 'canadian', 'candelilla', 'candied', 'candies', 'candle', 'candlekey', 'candlenut', 'candles', 'candy', 'cane', 'canine', 'cannellini', 'canoia', 'canola', 'canolaand', 'canolaoil', 'canopy', 'cans', 'cantaloupe', 'canthaxanthin', 'cap', 'capacity', 'capers', 'capfor', 'capitalised', 'capped', 'cappuccino', 'capric', 'caprylic', 'capsicum', 'capsule', 'capsules', 'capt', 'captain', 'caramel', 'caramelised', 'caramelized', 'caramels', 'caramelsmilk', 'carauba', 'caravans', 'caraway', 'carb', 'carb11g4dietary', 'carb17g6fiber6g24sugars4g160protein12g160vitamin', 'carb1g0protein0g160', 'carb2g1fiber0g0sugars1g160protein0g160vitamin', 'carb49g16fiber0g0sugars29g160protein0g160', 'carbauba', 'carbohydrate', 'carbohydrate0', 'carbohydrate0g0dietary', 'carbohydrate10g3sugars9g160', 'carbohydrate11g4dietary', 'carbohydrate12g4dietary', 'carbohydrate16g5dietary', 'carbohydrate17g6dietary', 'carbohydrate17g6fiber3g12sugars9g160protein5g4vitamin', 'carbohydrate18g6dietary', 'carbohydrate19g6dietary', 'carbohydrate19g6fiber3g12sugars14g160protein4g160vitamin', 'carbohydrate1g0dietary', 'carbohydrate1g1dietary', 'carbohydrate20g160protein3g160vitamin', 'carbohydrate20g7dietary', 'carbohydrate21g7dietary', 'carbohydrate22', 'carbohydrate22g7dietary', 'carbohydrate23', 'carbohydrate23g8dietary', 'carbohydrate24g8dietary', 'carbohydrate28g9dietary', 'carbohydrate32g11dietary', 'carbohydrate34g11fiber2g8sugars23g160protein5g160vitamin', 'carbohydrate3g1dietary', 'carbohydrate4g1dietary', 'carbohydrate5g160dietary', 'carbohydrate5g2sugars4g160', 'carbohydrate6g2dietary', 'carbohydrate7g160sugars3g160protein0g160vitamin', 'carbohydrate7g2dietary', 'carbohydrate9g3sugars8g160', 'carbohydrateglucides', 'carbohydratelt1g0sugar0g160protein0g160', 'carbohydrates', 'carbohydrates17g6sugar17g160', 'carbohydrates18g6sugar10g160protein0g160vitamin', 'carbohydrates19g6dietary', 'carbohydrates20g7dietary', 'carbohydrates23g8dietary', 'carbohydrates24g8dietary', 'carbohydrates33g11dietary', 'carbohydrates37g12sugars27g160protein0g160vitamin', 'carbohydrates3g1dietary', 'carbohydrates4g1dietary', 'carbohydrates5g2dietary', 'carbohyrates7g2dietary', 'carbon', 'carbonate', 'carbonated', 'carbonates', 'carbonation', 'carbonfund', 'carboximethylcellulose', 'carboxy', 'carboxylate', 'carboxymethyl', 'carboxymethylcellulose', 'carboydrate25g8dietary', 'carbs', 'carbs16g5dietary', 'cardamin', 'cardamom', 'cardamomum', 'carded', 'cards', 'care', 'career', 'careful', 'carefully', 'caribbean', 'caribou', 'carmel', 'carmine', 'carmines', 'carminic', 'carmody', 'carnaroli', 'carnation', 'carnauba', 'carnaubawax', 'carnitine', 'carnivals', 'carnuaba', 'carnuba', 'carob', 'carolina', 'carom', 'carotenal', 'carotene', 'carotenecolor', 'carotenes', 'carotenoid', 'carotine', 'carotinoids', 'carp', 'carrageean', 'carrageen', 'carrageenaan', 'carrageenan', 'carrier', 'carrot', 'carrots', 'carry', 'cartenal', 'cartilage', 'carton', 'cartone', 'cartridge', 'carved', 'cas', 'case', 'casei', 'caseimate', 'casein', 'caseinate', 'caseinates', 'casenate', 'cashew', 'cashewnut', 'cashews', 'cashewsgift', 'casienate', 'casing', 'casings', 'cassava', 'cassavas', 'cassia', 'castus', 'cat', 'category', 'cationic', 'cauliflower', 'cause', 'caused', 'causes', 'cautions', 'cayanne', 'cayenne', 'cayman', 'ccof', 'cebada', 'celebrated', 'celebrating', 'celeriac', 'celery', 'celestial', 'celestialseasonings', 'cello', 'cells', 'cellulase', 'cellulose', 'celtic', 'center', 'central', 'centre', 'centuries', 'ceramic', 'cereal', 'cereals', 'cerevisiae', 'cerifera', 'certain', 'certification', 'certified', 'certifiedtm', 'cessed', 'ceteareth', 'cetearyl', 'cetyl', 'ceylon', 'cfcs', 'cha', 'chablis', 'chaff', 'chaga', 'chai', 'chain', 'chamomile', 'chamomilecinnamonhibiscusrosehipsclovescorianderorange', 'chamomilla', 'champagne', 'champignon', 'chana', 'chance', 'change', 'channa', 'chanterelle', 'char', 'character', 'characterizing', 'chard', 'charlie', 'charming', 'charms', 'chaste', 'chatni', 'chcoclate', 'che', 'chebula', 'checken', 'cheddar', 'chedder', 'cheede', 'cheektowaga', 'cheerful', 'chees', 'cheese', 'cheesea', 'cheesecake', 'cheesecakes', 'cheeseclassic', 'cheeseorange', 'cheeses', 'cheesewisconsin', 'cheesewolfgang', 'cheesy', 'cheetos', 'cheez', 'cheeze', 'chelate', 'chelated', 'chelating', 'chemical', 'chemicals', 'cherries', 'cherriescool', 'cherriespecan', 'cherry', 'cherub', 'chervil', 'chest', 'chestnut', 'chestnuts', 'chewer', 'chewing', 'chews', 'chewy', 'chia', 'chick', 'chicken', 'chicken160', 'chickpea', 'chickpeas', 'chicle', 'chicoru', 'chicory', 'chicoryblackberry', 'chiken', 'children', 'chile', 'chiles', 'chili', 'chilies', 'chilis', 'chill', 'chilles', 'chilli', 'chillies', 'china', 'chine', 'chinese', 'ching', 'chios', 'chip', 'chipmunk', 'chipoltle', 'chipotle', 'chipotles', 'chips', 'chive', 'chives', 'chlorella', 'chloride', 'chlorides', 'chlorine', 'chlorophyll', 'chlorophyllin', 'chlorophyllins', 'chlorphyllin', 'choc', 'choco', 'chocoholics', 'chocolat', 'chocolate', 'chocolatebar', 'chocolatemarshmallowgraham', 'chocolates', 'chocolatesenclosed', 'chocolatespeanut', 'chocolatewhen', 'chocolatey', 'chocolaty', 'choice', 'choices', 'choke', 'chokeberry', 'cholecalciferol', 'choleclciferol', 'cholest', 'cholesterol', 'cholestrol', 'choline', 'cholula', 'chondroitin', 'chondrus', 'chopped', 'chorizos', 'chosen', 'chow', 'choy', 'christmas', 'chromic', 'chromium', 'chronic', 'chun', 'chunk', 'chunks', 'churro', 'chutne', 'chutney', 'chymosin', 'ci', 'cibarbonate', 'cicerchia', 'cid', 'cider', 'ciglycerides', 'cilantro', 'cimbernstr', 'cinamon', 'cinnamomum', 'cinnamon', 'cinnamonmum', 'cio', 'circle', 'citicoline', 'citirc', 'citizens', 'citrate', 'citrates', 'citrc', 'citrem', 'citric', 'citricacid', 'citris', 'citrus', 'citruspectin', 'cl', 'clam', 'clams', 'clarified', 'classic', 'classroom', 'claw', 'clc', 'clean', 'cleaned', 'cleaners', 'cleaning', 'clearly', 'clem', 'clifton', 'close', 'closed', 'closely', 'closure', 'cloth', 'clothing', 'cloud', 'clove', 'clover', 'cloves', 'club', 'cluster', 'clusters', 'clusterschocolate', 'cmc', 'co2', 'coacoa', 'coag', 'coagulans', 'coarse', 'coast', 'coastal', 'coated', 'coating', 'coatings', 'coax', 'cobalt', 'coca', 'cocamide', 'cocamidopropyl', 'cochineal', 'cockles', 'cocktail', 'cocnut', 'coco', 'cocoa', 'cocoamphodiacetate', 'cocoat', 'cocobutter', 'cocomama', 'coconut', 'coconuts', 'cocos', 'cocount', 'cod', 'code', 'codfish', 'coffee', 'coffeecarmel', 'coffeegolf', 'coffees', 'coho', 'cola', 'colby', 'cold', 'collagen', 'collard', 'collared', 'collection', 'colombia', 'colombian', 'color', 'colorado', 'colorant', 'colore', 'colored', 'coloring', 'colorings', 'colors', 'colorturkey', 'colour', 'colouring', 'colourings', 'colours', 'colza', 'com', 'combination', 'combined', 'combines', 'come', 'comes', 'comice', 'coming', 'comment', 'commit', 'commitment', 'committed', 'common', 'commonly', 'communities', 'community', 'company', 'companyselection', 'compared', 'compatible', 'competition', 'complementary', 'complete', 'completely', 'complex', 'complexes', 'compliance', 'compliant', 'compliment', 'components', 'composition', 'compostable', 'composted', 'compotes', 'compound', 'compounds', 'compressed', 'compromise', 'conatin', 'concentrate', 'concentrated', 'concentrates', 'concerntrate', 'concession', 'concessionaires', 'conch', 'concnetrate', 'concord', 'condensed', 'condiment', 'condition', 'conditioner', 'conditioners', 'conditions', 'cone', 'cones', 'confec', 'confection', 'confectionary', 'confectioner', 'confectioners', 'confectionery', 'confections', 'congregations', 'connoisseur', 'conola', 'conpoy', 'conservador', 'conservation', 'conserves', 'consist', 'consistency', 'consistent', 'consists', 'constant', 'consult', 'consume', 'consumed', 'consumer', 'consuming', 'consumption', 'contact', 'contain', 'contained', 'container', 'containers', 'containing', 'contains', 'containslessthan2', 'contaminated', 'contamination', 'content', 'contents', 'contiene', 'continue', 'contrains', 'contributes', 'control', 'controls', 'convenient', 'conventional', 'converts', 'cook', 'cooked', 'cookie', 'cookied', 'cookies', 'cookiesall', 'cookiesbelgian', 'cookieschocolate', 'cookiescinnamon', 'cookiescranberry', 'cookiesdeliciously', 'cookiesextra', 'cookiesholiday', 'cookiesindividually', 'cookieskey', 'cookieslemon', 'cookiesservings', 'cooking', 'cool', 'coolers', 'cooling', 'cooperatives', 'coor', 'copernicia', 'copolymer', 'copper', 'copy', 'cordials', 'cordifolia', 'coriander', 'corlander', 'corn', 'corned', 'cornflour', 'cornflower', 'cornmeal', 'corns', 'cornstarch', 'cornstrach', 'cornsyrup', 'corny', 'corporation', 'corrector', 'corriander', 'corrosion', 'cortas', 'cost', 'cottage', 'cottenseed', 'cotton', 'cottonseed', 'count', 'counteractant', 'countries', 'country', 'countryreg', 'county', 'couple', 'couscous', 'couveture', 'coventry', 'cover', 'covered', 'cow', 'coworkers', 'cows', 'coy', 'cozy', 'crab', 'crabmeat', 'cracked', 'cracker', 'crackermeal', 'crackers', 'crackersall', 'crackerscranberry', 'crackersenriched', 'crafted', 'crafting', 'cranberries', 'cranberrieschocolate', 'cranberry', 'craving', 'crawlers', 'crayfish', 'crazy', 'creacker', 'cream', 'creamed', 'creamer', 'creaming', 'creams', 'creamy', 'create', 'created', 'creates', 'creating', 'cred', 'creduced', 'creek', 'creme', 'cremoris', 'crescent', 'crickets', 'crimini', 'crisco', 'crisp', 'crispbread', 'crisped', 'crispies', 'crisps', 'crispy', 'crme', 'crocus', 'crops', 'cross', 'crosspolymer', 'crossword', 'croutons', 'crowley', 'cruisers', 'crumb', 'crumble', 'crumbles', 'crumbs', 'crunch', 'crunchies', 'crunchmaster', 'crunchy', 'crush', 'crushed', 'crust', 'crustacean', 'crustaceans', 'crusts', 'crystal', 'crystalized', 'crystalline', 'crystallised', 'crystallization', 'crystallized', 'crystals', 'crème', 'cseinate', 'csr', 'ct', 'cucumber', 'cucumbers', 'cuddly', 'cuisine', 'cuisines', 'culantro', 'culinary', 'cultivated', 'cultivation', 'culture', 'cultured', 'cultures', 'culturing', 'culutred', 'cum', 'cumin', 'cup', 'cupcakes', 'cupnutrientamount', 'cupping', 'cupric', 'cups', 'cupservings', 'cupsservings', 'curcuma', 'curcumin', 'curd', 'cure', 'cured', 'currant', 'currants', 'currency', 'currently', 'curries', 'curry', 'custard', 'customer', 'customers', 'cut', 'cute', 'cuttlefish', 'cyanocabalamin', 'cyanocobalamin', 'cyanocobalamine', 'cyclamate', 'cyeteine', 'cynacobalamin', 'cypermethrin', 'cyperus', 'cypress', 'cyrup', 'cysteine', 'cystenine', 'd160', 'd2', 'd3', 'd3calcium', 'daddy', 'daffodil', 'daffodils', 'dahydrated', 'daikon', 'daily', 'dailyingredientssparkling', 'dairy', 'daisy', 'dal', 'dalfour', 'damage', 'damiana', 'damson', 'dandelion', 'daniel', 'dannon', 'darjeeling', 'dark', 'data', 'database', 'date', 'dated', 'datem', 'dates', 'datesa', 'dating', 'daves', 'dawn', 'day', 'days', 'dc', 'ddr', 'dea', 'deal', 'dean', 'dec', 'decadent', 'decaf', 'decaffeinated', 'deceth', 'deck', 'declaration', 'decorate', 'decorative', 'decorettes', 'dectrose', 'decyl', 'dedicated', 'dee', 'deep', 'deeply', 'deet', 'defatted', 'defense', 'defoamer', 'degermed', 'degerminated', 'deglycerides', 'degrees', 'dehulled', 'dehydated', 'dehyderated', 'dehydrate', 'dehydrated', 'dehydroacetic', 'deionized', 'delbrueckii', 'delectable', 'delicate', 'delicatessen', 'delicious', 'deliciously', 'delight', 'delightful', 'delightfully', 'deliver', 'delivers', 'delta', 'deltalactone', 'deluxe', 'dem', 'demerara', 'demineralised', 'democratic', 'deng', 'denominacion', 'denotes', 'dense', 'department', 'depeding', 'depending', 'deproteinizedsoybeanoil', 'dept', 'depth', 'derivative', 'derivatives', 'derived', 'des', 'descending', 'descremada', 'description', 'desiccated', 'design', 'designed', 'designer', 'desired', 'desmodium', 'dessert', 'desserts', 'dessicated', 'details', 'detect', 'determine', 'detox', 'detrin', 'detrose', 'develop', 'developed', 'developing', 'development', 'devil', 'dextin', 'dextri', 'dextrin', 'dextrins', 'dextrose', 'dextrosesugarleavening', 'dha', 'dhal', 'dhdm', 'di', 'diacetate', 'diacetyl', 'diacetylactis', 'diacetyllactis', 'diameter', 'diamine', 'diammonium', 'diary', 'dibasic', 'dicalcium', 'diced', 'dices', 'didecyl', 'diesters', 'diet', 'dietarily', 'dietary', 'dietsingredientsisolated', 'difference', 'different', 'diffusa', 'digest', 'digestive', 'digestives', 'digilata', 'diglyceride', 'diglycerides', 'diglyceridesgrain', 'diglycerines', 'digycerides', 'dihydrate', 'dihydratem', 'dihydriodide', 'dihydrogen', 'dijon', 'dill', 'dillweed', 'diluted', 'dimagnesium', 'dimbula', 'dimbulla', 'dimensions', 'dimethicone', 'dimethiconol', 'dimethyl', 'dimethylpolysiloxane', 'dinosaur', 'dioctyl', 'dioica', 'dioscorea', 'dioxide', 'dioxode', 'diozide', 'dip', 'diphacinone', 'diphenylacetyl', 'diphosphate', 'diphosphates', 'dipjumbo', 'dipotassium', 'dipped', 'dippepper', 'dipping', 'dipropylene', 'dips', 'direct', 'direction', 'directions', 'directly', 'disappointed', 'discoloration', 'discomfort', 'discount', 'discovered', 'discovering', 'dish', 'dishes', 'dishwashers', 'disitilled', 'disodium', 'disodum', 'disorders', 'dispensing', 'dissodium', 'dissolves', 'dissolving', 'distearate', 'distillate', 'distilled', 'distillers', 'distinct', 'distinctive', 'district', 'divide', 'division', 'dl', 'dmdm', 'dmg', 'dock', 'doctor', 'dodecyl', 'dodecylbenzene', 'does', 'doesn', 'dog', 'dogs', 'dolomite', 'domata', 'domestic', 'dominican', 'dominion', 'don', 'donated', 'donation', 'dong', 'dont', 'donut', 'doritos', 'dos', 'dots', 'doubanjiang', 'double', 'dough', 'doughnut', 'doughs', 'dozens', 'dr', 'dragon', 'dragonfruit', 'drains', 'dream', 'dreamgreen', 'dreams', 'dreid', 'dress', 'dressing', 'dressingwater', 'dried', 'dried160namequantityunitdaily', 'driedmay', 'drink', 'drinking', 'drinks', 'drip', 'drive', 'drizzle', 'drizzled', 'drop', 'drops', 'drug', 'dry', 'drying', 'dryness', 'du', 'dual', 'dubble', 'dubia', 'duck', 'duds', 'dulce', 'dulcis', 'dulse', 'dumplings', 'dunaliella', 'duodenum', 'durable', 'duram', 'durham', 'durum', 'dusted', 'dutch', 'dutched', 'dv', 'dvcalories210160sat', 'dye', 'dyes', 'dyestuffs', 'd₃', 'e100', 'e101', 'e102', 'e110', 'e120', 'e122', 'e124', 'e127', 'e129', 'e132', 'e133', 'e142', 'e150a', 'e150c', 'e150d', 'e15c', 'e160', 'e16015vitamin', 'e16050calcium1606iron1604', 'e160a', 'e160b', 'e160c', 'e160e', 'e162', 'e163', 'e171', 'e200', 'e202', 'e211', 'e221', 'e223', 'e224', 'e250', 'e260', 'e270', 'e300', 'e301', 'e306', 'e319', 'e320', 'e321', 'e322', 'e330', 'e331', 'e336', 'e339', 'e341', 'e406', 'e412', 'e415', 'e435', 'e442', 'e450', 'e451', 'e452', 'e466', 'e470a', 'e471', 'e472c', 'e472e', 'e475', 'e476', 'e481', 'e491', 'e492', 'e500', 'e500ii', 'e501', 'e503', 'e503ii', 'e551', 'e575', 'e621', 'e627', 'e631', 'e635', 'e900', 'e904', 'e920', 'ea', 'eachingredients', 'ear', 'earl', 'earth', 'earthrise', 'earthy', 'easier', 'easily', 'east', 'easter', 'eastern', 'easy', 'eat', 'eaten', 'ebay', 'eboost', 'echinacea', 'eco', 'economic', 'economical', 'ecosocial', 'ecosystem', 'ectract', 'ecuadorian', 'ed', 'edam', 'edamame', 'edge', 'edible', 'edition', 'edta', 'educational', 'educed', 'effect', 'effective', 'efficient', 'egcg', 'egg', 'eggnog', 'eggplant', 'eggs', 'egypt', 'egyptian', 'einkorn', 'ekocups', 'elaeis', 'elbow', 'elder', 'elderberries', 'elderberry', 'electrolyte', 'electrolytes', 'electrolytic', 'elegant', 'elemental', 'elements', 'elettaria', 'eleuthero', 'eliminates', 'eliminator', 'ellataria', 'emerald', 'emerges', 'emission', 'emissions', 'emmer', 'employed', 'empowering', 'emulsfier', 'emulsif1er', 'emulsifers', 'emulsified', 'emulsifier', 'emulsifiers', 'emulsifiersoylecithin', 'emulsifiersoylecithinandartificialcolors', 'emulsififer', 'emulsifying', 'emulsifyng', 'emusifier', 'enables', 'encapsulated', 'enchilada', 'end', 'endangered', 'endorphin', 'endorsement', 'ener', 'energy', 'engineered', 'engineering', 'england', 'english', 'enhance', 'enhanced', 'enhancements', 'enhancer', 'enhancers', 'enjoy', 'enjoyed', 'enoki', 'enriced', 'enriched', 'enrichement', 'enrichment', 'enriquecida', 'enrobed', 'ensure', 'ensuring', 'enterococcus', 'enthusiasm', 'enticing', 'entire', 'entree', 'environment', 'environmental', 'environmentally', 'envoy', 'enyzmes', 'enzamix', 'enzyme', 'enzymes', 'epa', 'equals', 'equipment', 'equivalence', 'equivalent', 'erh', 'eritorbate', 'erlanger', 'errands', 'erthritol', 'erythorbate', 'erythorbic', 'erythritol', 'erythritolmonk', 'erythrosine', 'especially', 'espelette', 'espices', 'espresso', 'ess', 'essence', 'essences', 'essential', 'est', 'established', 'estate', 'ester', 'esters', 'estimates', 'estivo', 'estrella', 'etched', 'eterococcus', 'ethanol', 'ether', 'ethers', 'ethical', 'ethically', 'ethnic', 'ethoxylate', 'ethoxylated', 'ethoxyquin', 'ethyl', 'ethylbenzyl', 'ethylene', 'ethylenediamine', 'etna', 'eu', 'eucalyptus', 'euphoric', 'european', 'euterpe', 'evaporated', 'evaportated', 'event', 'events', 'evergreen', 'evident', 'ex', 'examination', 'exceed', 'excellent', 'exceptional', 'exceptionally', 'excess', 'excessive', 'exchange', 'excluding', 'exclusive', 'exclusively', 'exercise', 'exhibits', 'exotic', 'expeller', 'experience', 'expertly', 'experts', 'exposure', 'expresso', 'exquisite', 'ext', 'extend', 'extra', 'extract', 'extracted', 'extractions', 'extractive', 'extractives', 'extractm', 'extracts', 'extremely', 'extruded', 'eye', 'eyed', 'eyes', 'ezekiel', 'fabled', 'fabric', 'facebook', 'facility', 'fact', 'factory', 'facts', 'factsserving', 'faecium', 'fair', 'fairtrade', 'fairtradeusa', 'fall', 'falvor', 'falvoring', 'falvors', 'families', 'family', 'famous', 'fancy', 'farina', 'farm', 'farmed', 'farmers', 'farmhouse', 'farming', 'farms', 'farro', 'fashioned', 'fast', 'fastbreak', 'fastener', 'fat', 'fat0', 'fat0160cholesterol00sodium00total', 'fat0160fat0g4saturated0g0trans', 'fat0160sodium75mg3cholesterol160160calcium1600iron1604vitamin', 'fat0160total', 'fat0g0cholest', 'fat0g0cholesterol0g0sodium35mg1total', 'fat0g0cholesterol0mg0sodium0mg0total', 'fat0g0cholesterol0mg0sodium310mg13total', 'fat0g0cholesterol0mg0sodium5mg0potassium85mg2total', 'fat0g0cholesterol0mg0sodium60mg3total', 'fat0g0cholesterol0mg0sodium65mg3total', 'fat0g0cholestrol20mg7sodium260mg11total', 'fat0g0sat', 'fat0g0saturated', 'fat0g0sodium0mg0total', 'fat0g0sodium45mg2total', 'fat0g0sodium5mg0sugars21g160', 'fat0g0trans', 'fat0g160cholest', 'fat0g160cholest15mg5sodium790mg32potassium450mg13total', 'fat0g160cholesterol0g0sodium130mg5total', 'fat0g160cholesterol0mg0sodium0mg0potassium135mg4total', 'fat0g160cholesterol0mg0sodium0mg0total', 'fat0g160cholesterol0mg0sodium110mg5potassium0mg0total', 'fat0g160cholesterol0mg0sodium140mg6total', 'fat0g160cholesterol0mg0sodium150mg6total', 'fat0g160cholesterol0mg0sodium180mg8potassium170mg5total', 'fat0g160cholesterol0mg0sodium180mg8potassium80mg2total', 'fat0g160cholesterol0mg0sodium200mg8carbohydrate2g1fiber0g0sugars2g160protein0g160vitamin', 'fat0g160cholesterol0mg0sodium210mg9total', 'fat0g160cholesterol0mg0sodium250mg10total', 'fat0g160cholesterol0mg0sodium30mg1total', 'fat0g160cholesterol0mg0sodium60mg3potassium120mg3total', 'fat0g160cholesterol0mg0sodium60mg3potassium95mg3total', 'fat0g160cholesterol0mg0sodium690mg29potassium160160total', 'fat0g160cholesterol0mg0sodium70mg3total', 'fat0g160cholesterol0mg0sodium75mg3total', 'fat0g160cholesterol0mg0sodium790mg33potassium35mg1total', 'fat0g160cholesterol0mg0sodium80mg3total', 'fat0g160cholesterol0mg160sodium330mg160carbohydrates19g160dietary', 'fat0g160cholesterol0mg160sodium530mg160carbohydrates20g160dietary', 'fat0g160cholesterol20mg7sodium640mg27potassium270mg8total', 'fat0g160cholesterol5mg2sodium10mg0total', 'fat0g160cholesterol5mg2sodium65mg3total', 'fat0g160cholesterollt5mg0sodium10mg1total', 'fat0g160cholesterollt5mg1sodium75mg3total', 'fat0g160cholesterolnsmgnssodium400mg17potassiummg160total', 'fat0g160cholestrol5mg1sodium0mg0total', 'fat0g160cholestrol5mg2sodium80mg3total', 'fat0g160cholestrolmg0sodium10mg0total', 'fat0g160monounsaturated', 'fat0g160polyunsat', 'fat0g160polyunsaturated', 'fat0g160polyunsaturated4g160monounsaturated10g160cholesterol0mg0sodium65mg3total', 'fat0g160saturated', 'fat0g160saturated0g160polyunsaturated0g160monounsaturated0g160trans0g160cholestrol0mg160sodium160mg160potassium0mg160total', 'fat0g160sodium10mg0total', 'fat0g160sodium120mg5total', 'fat0g160sodium210mg160total', 'fat0g160trans', 'fat0g1trans', 'fat0gcholesterol0mg0sodium150mg6total', 'fat1', 'fat100160total', 'fat10g15sat', 'fat10g160potassium230mg7total', 'fat110160total', 'fat120160total', 'fat12g18sat', 'fat12g18saturated', 'fat12g18trans', 'fat130160total', 'fat140160total', 'fat14g22sat', 'fat14g22saturated', 'fat15', 'fat150160total', 'fat15160total', 'fat15g23saturated', 'fat160160fat0', 'fat160160fat10g15saturated', 'fat160160total', 'fat16g25saturated', 'fat17g25saturated', 'fat17g26saturated', 'fat180160total', 'fat18160total', 'fat1g160cholesterol10mg3sodium640mg27potassium370mg11total', 'fat1g160cholestlt5mg1sodium100mg4total', 'fat1g160monounsaturated', 'fat1g160saturated', 'fat1g4trans', 'fat1g5', 'fat1g5trans', 'fat1g6trans', 'fat2', 'fat20160total', 'fat20g31saturated', 'fat25160total', 'fat2g10trans', 'fat2g11trans', 'fat2g160monounsat', 'fat2g3saturated', 'fat3', 'fat30160total', 'fat35160total', 'fat3g15trans', 'fat3g160cholesterol10mg3sodium670mg28potassium160160total', 'fat3g160monounsaturated', 'fat3g16trans', 'fat3g4saturated', 'fat3g5saturated', 'fat4', 'fat45160total', 'fat4g160monounsaturated', 'fat4g20trans', 'fat4g6sat', 'fat4g6saturated', 'fat4g6sodium40mg2total', 'fat50160total', 'fat5160fat0', 'fat5160total', 'fat5g160cholest', 'fat5g8saturated', 'fat60160fat7g11saturated', 'fat60160protein2g160total', 'fat60160total', 'fat6g30trans', 'fat6g9sat', 'fat6g9saturated', 'fat70160total', 'fat7g11saturated', 'fat7g35cholestrol5mg2sodium5mg0total', 'fat7g36trans', 'fat80160total', 'fat8g160cholesterol0mg0sodium20mg1total', 'fat8g40trans', 'fat9', 'fat90160fat10g15saturated', 'fat90160total', 'fat9g13saturated', 'fat9g15saturated', 'fatg160cholesterol5mg1sodium880mg36potassiummg160total', 'fatg160monounsaturated', 'father', 'fatlipides', 'fats', 'fatty', 'fauz', 'fava', 'favor', 'favorite', 'favorites', 'favouring', 'fax', 'fcf', 'fd', 'fda', 'fdampc', 'fdandc', 'fdc', 'feature', 'features', 'featuring', 'fed', 'feedback', 'feeding', 'feedings', 'feel', 'feelgood', 'feet', 'feline', 'feng', 'fennel', 'fenugreek', 'ferme', 'fermentation', 'fermented', 'ferrea', 'ferrero', 'ferric', 'ferroso', 'ferrous', 'ferrouse', 'fertilizers', 'festive', 'feta', 'fewer', 'fiber', 'fiber0160sugars9g160total', 'fiber0g0sugar0g160protein0g0', 'fiber0g0sugar0g160protein3g160vitamin', 'fiber0g0sugar1g160protein3g160vitamin', 'fiber0g0sugars0g160other', 'fiber0g0sugars0g160protein1g160vitamin', 'fiber0g0sugars10g160protein1g2vitamin', 'fiber0g0sugars1g160protein0g0vitamin', 'fiber0g0sugars1g160protein1g160vitamin', 'fiber0g0sugars2g160protein0g160vitamin', 'fiber0g0sugars3g160protein0g160vitamin', 'fiber0g0sugars8g160protein1g160vitamin', 'fiber0g160sugars4g160protein0g160vitamin', 'fiber1g2sugars1g160protein4g160vitamin', 'fiber1g2sugars6g160protein7g160vitamin', 'fiber1g3sugars0g160protein3g160vitamin', 'fiber1g4sugar0g160protein2g160vitamin', 'fiber1g4sugar0g160protein3g160vitamin', 'fiber1g4sugar1g160protein5g160vitamin', 'fiber1g4sugars0g160protein2g160vitamin', 'fiber1g4sugars17g160protein0g160vitamin', 'fiber1g4sugars17g160protein2g160vitamin', 'fiber1g4sugars27g160protein1g160vitamin', 'fiber1g4sugars5g160proteinlt1g160vitamin', 'fiber1g4sugars7g160protein1g160vitamin', 'fiber1g4sugars8g160protein6g160vitamin', 'fiber2', 'fiber2g160insoluble', 'fiber2g160sugars8g160protein8g12vitamin', 'fiber2g7sugars12g160protein4g160calcium1602', 'fiber2g8sugars13g160protein1g160vitamin', 'fiber2g8sugars19g160protein2g160vitamin', 'fiber2g8sugars1g160protein5g160vitamin', 'fiber2g8sugars1g160protein8g160vitamin', 'fiber2g9sugars12g160protein1g160calcium1602iron1602', 'fiber3', 'fiber3g10sugars18g160protein2g160vitamin', 'fiber3g10sugars1g160protein7g160vitamin', 'fiber3g12sugar0g160protein0g160', 'fiber3g12sugar11g160protein6g160vitamin', 'fiber3g12sugars0g160protein3g160vitamin', 'fiber3g12sugars1g160protein6g12vitamin', 'fiber3g12sugars2g160protein6g160calcium16010iron1606folate1604niacin1604', 'fiber3g12sugars5g160protein5g160vitamin', 'fiber3g13sugars8g160protein6g160vitamin', 'fiber3g14sugars3g160protein6g160magnesium16020', 'fiber4g160sugars2g160protein5g160vitamin', 'fiber4g16sugars18g160protein4g160vitamin', 'fiber5g160sugars3g160protein4g160calcium1602', 'fiber5g20sugarsnsg160protein6g160vitamin', 'fiber6g24sugars5g160sugar', 'fiberless', 'fiberlt1g0sugars14g160protein1g160vitamin', 'fiberlt1g2sugars2g160protein2g160vitamin', 'fiberlt1g2sugars7g160protein1g160vitamin', 'fiberlt1g4sugars6g160protein1g160vitamin', 'fiberlt1g4sugars8g160sugar', 'fiberlt1g4sugars9gprotein2giron1602', 'fibers', 'fibre', 'fidelity', 'field', 'fiery', 'fig', 'fight', 'fighters', 'figs', 'figure', 'fiji', 'filberts', 'filet', 'filled', 'fillers', 'fillets', 'filletstilapia', 'filling', 'filter', 'filtered', 'filtration', 'finding', 'fine', 'finer', 'finest', 'fingerling', 'fingers', 'fingersapple', 'finish', 'firming', 'firmness', 'fish', 'fishbutter', 'fit', 'fits', 'fizz', 'fl', 'flacor', 'flageolet', 'flair', 'flake', 'flaked', 'flakes', 'flame', 'flamin', 'flamingo', 'flammable', 'flaovr', 'flap', 'flash', 'flatbread', 'flavor', 'flavorbr', 'flavorcinnamonascorbic', 'flavored', 'flavorful', 'flavorhomemade', 'flavoring', 'flavoringascorbic', 'flavorings', 'flavornewlistbreadsticks', 'flavorred', 'flavors', 'flavorsbr', 'flavorschipotle', 'flavour', 'flavoured', 'flavouring', 'flavourings', 'flavours', 'flavous', 'flax', 'flaxmeal', 'flaxseed', 'flaxseeds', 'flecks', 'fleur', 'flip', 'floic', 'floor', 'flor', 'flora', 'floral', 'florida', 'flounder', 'flour', 'flour160', 'flourdefatted', 'flourflourmalted', 'flourreduced', 'flours', 'floursugaryeastwheat', 'flourvitamins', 'flourwatersugaryeastwheat', 'flow', 'flower', 'flowering', 'flowers', 'flowing', 'floz', 'fluffy', 'fluid', 'fluoride', 'flur', 'flush', 'flutamate', 'fluted', 'fo', 'foaming', 'foavors', 'focaccia', 'focus', 'foetidum', 'foil', 'foiled', 'foils', 'folate', 'folgers', 'folic', 'folico', 'folid', 'folir', 'follo9wing', 'follow', 'followiing', 'following', 'food', 'foods', 'foot', 'foothills', 'forefront', 'forest', 'form', 'formed', 'formedham', 'formula', 'formulated', 'fortaleza', 'fortified', 'fortune', 'fosfato', 'foundation', 'founders', 'fox', 'foxworthy', 'fracciones', 'frache', 'fractionated', 'fractioned', 'fragments', 'fragrance', 'fragrances', 'fragrant', 'frame', 'france', 'francisco', 'frankfurters', 'free', 'freedom', 'freeze', 'french', 'fresh', 'freshens', 'freshest', 'freshly', 'freshness', 'fri', 'fridge', 'fried', 'friend', 'friendly', 'friends', 'fries', 'fritter', 'frittersfestive', 'frogs', 'frontier', 'frosted', 'frosting', 'froth', 'fru', 'fruc', 'frucstose', 'fructan', 'fructooligosaccharides', 'fructose', 'fruit', 'fruiting', 'fruitrim', 'fruits', 'fruity', 'fry', 'fudge', 'fudgechocolate', 'fudgy', 'fuego', 'fuels', 'fuji', 'fujian', 'fully', 'fulvic', 'fumarate', 'fumaric', 'fumed', 'fun', 'function', 'fund', 'fungal', 'fusilli', 'fz', 'g0', 'g0protein0', 'g0sodium0', 'g0trans', 'g10dietary', 'g12sugars17', 'g14saturated', 'g160', 'g160cholesterol0', 'g160monounsaturated', 'g160polyunsaturated', 'g160protein1', 'g160protein3', 'g160vit', 'g160vitamin', 'g1saturated', 'g23saturated', 'g5trans', 'g7dietary', 'g8dietary', 'g8sugars19', 'g8sugars21', 'g8trans', 'gain', 'galangal', 'gallate', 'gallon', 'gallons', 'galls', 'game', 'ganache', 'gangeticum', 'ganoderma', 'garam', 'garantie', 'garbanzo', 'garbanzos', 'garcinia', 'garden', 'gardenia', 'gardens', 'garli', 'garlic', 'garlilc', 'garnished', 'gases', 'gathered', 'gb', 'gbi', 'gdl', 'gdr', 'gefilte', 'geisha', 'gel', 'gelatin', 'gelatine', 'gelatiningredientsagar', 'gelatinized', 'gelatinzed', 'gelexfoliation', 'gelidium', 'gelifiant', 'gelificant', 'gellan', 'gelling', 'gelrite', 'gels', 'gen', 'generally', 'generations', 'generously', 'genetic', 'genetically', 'genoa', 'gentian', 'gentle', 'gently', 'genuine', 'genuineness', 'georgia', 'geraniol', 'geranium', 'gerbs', 'germ', 'german', 'germany', 'germs', 'germsaltmalt', 'gets', 'gf', 'ghatti', 'ghee', 'gherkins', 'ghirardelli', 'ghost', 'gianduja', 'giant', 'gift', 'gifting', 'gifts', 'gigartina', 'gim', 'ginge', 'ginger', 'gingerbread', 'gingergrass', 'gingerroot', 'ginkgo', 'ginnybakes', 'ginseng', 'gives', 'glace', 'glacial', 'glacier', 'glance', 'glass', 'glasses', 'glaze', 'glazed', 'glazes', 'glazing', 'gleaning', 'glee', 'globe', 'globulus', 'glosses', 'gloves', 'glow', 'glucerine', 'glucomannan', 'gluconate', 'glucondo', 'glucono', 'gluconolactone', 'glucoronolactone', 'glucosamine', 'glucose', 'glucosessyrup', 'glucosesyrup', 'glucoside', 'glucuronic', 'glucuronolactone', 'glukosesirup', 'glultinous', 'glutamate', 'glutamatemaltodextrinonion', 'glutamates', 'glutamic', 'glutamine', 'gluten', 'glutenfreeze', 'glutensaltsoybean', 'glutino', 'glutinous', 'glycemic', 'glycerated', 'glycerides', 'glyceridic', 'glycerin', 'glycerine', 'glycerol', 'glycerophosphate', 'glyceryl', 'glycine', 'glycol', 'glycolic', 'glycono', 'glycoside', 'glycosides', 'gm', 'gmbh', 'gmelina', 'gmo', 'gmos', 'gnocchi', 'gnp', 'gnu', 'goat', 'godiva', 'goes', 'going', 'goji', 'gold', 'golden', 'golf', 'golfer', 'golfing', 'good', 'goodbar', 'goodies', 'goods', 'gooseberries', 'gooseberry', 'gorgeous', 'gosling', 'gouda', 'gourment', 'gourmet', 'gourmettrade', 'gr', 'grade', 'graham', 'grahams', 'grain', 'grainless', 'grains', 'grainsflower', 'gram', 'grams', 'grana', 'granatum', 'grand', 'granny', 'granola', 'granted', 'granular', 'granularand', 'granulate', 'granulated', 'granules', 'grape', 'grapefruit', 'grapefruitjuicefromconcentrate', 'grapes', 'grapeseed', 'grass', 'grated', 'gratin', 'gravity', 'gravy', 'gray', 'grease', 'great', 'greater', 'greatest', 'greece', 'greek', 'green', 'greenhouse', 'greens', 'grew', 'grey', 'grill', 'grilled', 'grind', 'grip', 'grist', 'grit', 'grits', 'groats', 'grocery', 'ground', 'groundnuts', 'group', 'grove', 'grow', 'growing', 'grown', 'growth', 'gruyere', 'guajillo', 'guanylate', 'guanylatedisodium', 'guar', 'guarana', 'guarantee', 'guaranteed', 'guaraná', 'guarded', 'guatemala', 'guatemalan', 'guava', 'guavas', 'guayaba', 'guayusa', 'guests', 'guhydrated', 'guideline', 'guilt', 'guineensis', 'guittard', 'guizotia', 'gulkand', 'gum', 'gumacacia', 'gumarabic', 'gumballs', 'gumbase', 'gumbos', 'gummi', 'gummies', 'gummy', 'gums', 'gungo', 'gunpowder', 'guo', 'gurgi', 'gushers', 'guylian', 'guym', 'guys', 'gylcol', 'gymnema', 'habanero', 'habitats', 'haddock', 'hails', 'hain', 'hakodate', 'halal', 'half', 'halkidiki', 'halloween', 'halved', 'halves', 'ham', 'hammam', 'hams', 'hamwater', 'han', 'hand', 'handcrafted', 'handcut', 'handing', 'handle', 'handled', 'handles', 'handling', 'hands', 'handsome', 'happens', 'happy', 'hard', 'hardened', 'hardwood', 'haribo', 'haricot', 'harina', 'harmful', 'harnessing', 'hartley', 'harvest', 'harvested', 'hash', 'hass', 'hawaiian', 'hawthorn', 'hawthorne', 'hay', 'hazardous', 'hazards', 'hazelntut', 'hazelnut', 'hazelnuts', 'hazelnuts1', 'hci', 'hcl', 'head', 'healer', 'health', 'healthcare', 'healthier', 'healthy', 'hear', 'heard', 'heart', 'heartburn', 'hearts', 'hearty', 'heat', 'heath', 'heating', 'heatwave', 'heaven', 'heavy', 'hegins', 'height', 'heineken', 'heinz', 'heirloom', 'helianthus', 'helix', 'hell', 'help', 'helping', 'helps', 'helveticus', 'hemp', 'hempseed', 'hempseeds', 'hen', 'herb', 'herbal', 'herbs', 'heritage', 'hermetically', 'herring', 'hershey', 'hexameta', 'hexametaphosphate', 'hexoxyethanol', 'hfcs', 'hgm6', 'hi', 'hibiscus', 'hickory', 'hidden', 'hidrogenado', 'hierro', 'hig', 'high', 'higher', 'highest', 'highfructosecorn', 'highland', 'highlights', 'highly', 'higholeic', 'himalayan', 'himalayas', 'hinai', 'hint', 'hints', 'hip', 'hips', 'hirakinoko', 'hispanica', 'history', 'hitting', 'hoagie', 'hog', 'hokkaido', 'hold', 'holder', 'holds', 'hole', 'holiday', 'holidayno', 'holidays', 'holle', 'holly', 'holy', 'home', 'homeland', 'homemade', 'hominy', 'honey', 'honeybush', 'honored', 'hop', 'hopped', 'hops', 'hormel', 'hormones', 'horseradish', 'horsetail', 'hot', 'hours', 'house', 'household', 'households', 'hp', 'http', 'huckleberries', 'huevo', 'huito', 'hull', 'hulled', 'hulls', 'humans', 'humectan', 'humectant', 'humectants', 'hummus', 'humorous', 'hunk', 'hurricane', 'husk', 'husks', 'hychloride', 'hydantoin', 'hydrate', 'hydrated', 'hydro', 'hydroc', 'hydrochloric', 'hydrochloride', 'hydrochloridevitamin', 'hydrog', 'hydrogen', 'hydrogenate', 'hydrogenated', 'hydrogenatedpalmoil', 'hydrogenatedsoybean', 'hydrogentated', 'hydrolized', 'hydrollyzed', 'hydrolyized', 'hydrolysate', 'hydrolysed', 'hydrolyzate', 'hydrolyzed', 'hydrongenated', 'hydroponic', 'hydrosulfite', 'hydroxide', 'hydroxied', 'hydroxyanisole', 'hydroxylated', 'hydroxypropyl', 'hydroyzed', 'hylocereus', 'hypo', 'hypochlorite', 'hysterical', 'iaso', 'ibd', 'iberia', 'iberico', 'ice', 'iceberg', 'iced', 'icing', 'ico', 'idaho', 'ideal', 'identical', 'igp', 'iisomalt', 'ijitamin', 'il', 'ilex', 'illicit', 'illipe', 'image', 'images', 'imagine', 'imitation', 'immediately', 'immune', 'immuno', 'impact', 'impacting', 'impart', 'imparts', 'imperial', 'implement', 'implementation', 'imply', 'import', 'important', 'imported', 'impressive', 'improve', 'improves', 'inactive', 'inadvertently', 'inadvisable', 'inca', 'incan', 'incas', 'inches', 'incinerate', 'include', 'included', 'includes', 'including', 'income', 'incorporated', 'incredibly', 'indandione', 'independent', 'india', 'indian', 'indiana', 'indicated', 'indicates', 'indications1', 'indicationsfor', 'indicationsmust', 'indicationsred', 'indicationssupports', 'indicative', 'indicatorshelf', 'indicum', 'indies', 'indigenous', 'individual', 'individually', 'individuals', 'indonesia', 'indoxacarb', 'induce', 'indulge', 'indulgence', 'indulges', 'industry', 'inert', 'infancy', 'infants', 'info', 'infonumitea', 'information', 'informationcontains', 'infuse', 'infused', 'infusion', 'ing', 'ingots', 'ingredient', 'ingredientes', 'ingredients', 'inhibit', 'inhibitor', 'inhibitors', 'ink', 'inks', 'inluin', 'inner', 'innovative', 'inosiante', 'inosina', 'inosinate', 'inositol', 'inquiries', 'ins', 'insect', 'inside', 'insignificant', 'insisted', 'insoluble', 'insomnia', 'inspected', 'inspectedthis', 'inspiration', 'instant', 'instructions', 'integrerrima', 'integrifolia', 'intended', 'intense', 'intensity', 'interested', 'interesterfied', 'interesterified', 'interestified', 'interetherified', 'intermedia', 'international', 'internet', 'intriguing', 'introduced', 'inulin', 'inventory', 'invert', 'invertase', 'invertebrate', 'invertebrates', 'inverted', 'invertsugar', 'invigorating', 'invitation', 'invite', 'iodate', 'iodated', 'iodide', 'iodine', 'iodine160', 'iodised', 'iodized', 'iodopropynyl', 'ionic', 'ipomoea', 'iran', 'irish', 'iron', 'iron160', 'ironbrown', 'ironing', 'ironniacinamidepyridoxine', 'ironniacinthiamin', 'irradiated', 'irresistible', 'irritant', 'irritate', 'irritation', 'island', 'islands', 'isn', 'iso', 'isobutane', 'isobutyrate', 'isolate', 'isolated', 'isomalt', 'isomalto', 'isomaltooligosaccharide', 'isomerized', 'isononanoate', 'isoparaffin', 'isopropyl', 'israeli', 'italian', 'italy', 'item', 'items', 'iu', 'iwa', 'jack', 'jacob', 'jade', 'jaerae', 'jaggery', 'jal', 'jalape', 'jalapeno', 'jalapenos', 'jalapeo', 'jalapeos', 'jalapeño', 'jam', 'jamaica', 'jamaican', 'jampecan', 'jams', 'jaopn', 'japa', 'japan', 'japanese', 'japon', 'japonica', 'jar', 'jars', 'jasmin', 'jasmine', 'jawbreaker', 'jawbreakers', 'jeff', 'jell', 'jelly', 'jer', 'jerk', 'jerker', 'jerky', 'jerusalem', 'jeruselem', 'jet', 'jewel', 'jewish', 'jimmies', 'jimmy', 'jing', 'jo', 'jobs', 'joe', 'john', 'jolly', 'jolokia', 'journey', 'joy', 'jug', 'juice', 'juices', 'juicy', 'juiniper', 'jujube', 'jumbo', 'jungle', 'junior', 'juniper', 'juniperberry', 'juroat', 'juroattm', 'just', 'k1', 'ka', 'kaffir', 'kala', 'kalamata', 'kale', 'kaltgepresst', 'kamut', 'kaniwa', 'kanten', 'karaya', 'kashi', 'kashmiri', 'kat', 'katsuwonus', 'katuki', 'keebler', 'keeping', 'keeps', 'keepsake', 'keepsakelemon', 'kellogg', 'kelloggs', 'kelp', 'kemel', 'kenya', 'kenyan', 'kern', 'kernal', 'kernel', 'kernels', 'keta', 'ketchup', 'kettle', 'keurig', 'key', 'kg', 'khao', 'khorasan', 'kibbled', 'kick', 'kidney', 'kids', 'kimmed', 'kind', 'king', 'kipper', 'kippered', 'kirsch', 'kit', 'kitchen', 'kitchens', 'kiwi', 'kiwifruit', 'knife', 'know', 'knowledge', 'known', 'knows', 'kochijan', 'kohlrabi', 'koji', 'kokum', 'komachigayu', 'kombu', 'kombucha', 'kona', 'konbu', 'konjac', 'konnyaku', 'kooks', 'korea', 'korean', 'korintje', 'kosher', 'kraeusening', 'krill', 'krishna', 'krispie', 'krispies', 'ky', 'la', 'label', 'labeled', 'labels', 'labor', 'laboratory', 'lac', 'lacithin', 'lacks', 'lacs', 'lactase', 'lactate', 'lactation', 'lactic', 'lacticacid', 'lactis', 'lactitol', 'lacto', 'lactobacillus', 'lactococcus', 'lactoesters', 'lactone', 'lactose', 'lactylate', 'lactylateazodicarbonamideethoxylated', 'lactylic', 'lacy', 'lady', 'lager', 'lagniappe', 'lagopoides', 'lake', 'lakes', 'lamb', 'lance', 'land', 'landfill', 'landfills', 'lands', 'landscapes', 'lanka', 'lantern', 'larch', 'lard', 'large', 'larger', 'larix', 'larva', 'lasting', 'later', 'latic', 'latin', 'latino', 'latte', 'lattechocolate', 'lattice', 'lauramidoproplyamine', 'lauramine', 'laurel', 'laureth', 'laurie', 'lauroyl', 'lauryl', 'lavandin', 'lavandula', 'lavender', 'laver', 'lavish', 'lavor', 'laxative', 'layer', 'layered', 'lb', 'lbs', 'ldquo', 'le', 'leading', 'leaf', 'leafy', 'lean', 'learn', 'leather', 'leave', 'leaved', 'leavener', 'leavening', 'leavenings', 'leaves', 'leaveshawthorn', 'leaving', 'lebanon', 'leche', 'lechitin', 'lechtin', 'lecithin', 'lecithincitric', 'lecithins', 'lecitin', 'lecthin', 'leek', 'leeks', 'legend', 'leggero', 'legume', 'legumes', 'leibniz', 'leilalove', 'lemon', 'lemonade', 'lemongrass', 'lemongress', 'lemonheads', 'lemonjuiceconcentrate', 'lemonjuicefromlemonpureeconcentrate', 'lemons', 'lend', 'length', 'lenitils', 'lenses', 'lentil', 'lentils', 'lepidium', 'letichin', 'lettuce', 'lettuces', 'leucine', 'leuconostoc', 'leudante', 'levadura', 'level', 'levels', 'libby', 'license', 'licheniformis', 'licithin', 'licorice', 'lid', 'lids', 'life', 'lifestyle', 'lift', 'light', 'lighter', 'lightly', 'lightweight', 'lignin', 'like', 'lilikoi', 'lily', 'lima', 'lime', 'limeade', 'limed', 'limejuicefromconcentrate', 'limes', 'limited', 'limon', 'limonene', 'limonum', 'linden', 'lindt', 'line', 'linen', 'lineup', 'lingustilide', 'links', 'linn', 'linseed', 'linseeds', 'lipase', 'lipolyzed', 'liqueor', 'liqueurs', 'liquid', 'liquitint', 'liquor', 'liquorice', 'list', 'listed', 'listednutrition', 'listings', 'litchi', 'liter', 'litopenaeus', 'little', 'live', 'lively', 'liver', 'livers', 'living', 'lk', 'll', 'llc', 'lnosinate', 'loaf', 'lobster', 'local', 'located', 'locking', 'locus', 'locust', 'lodized', 'log', 'logcafé', 'logo', 'logs', 'lollipops', 'lollo', 'london', 'long', 'longer', 'longibrachiatum', 'longum', 'look', 'looking', 'lookout', 'looks', 'loose', 'loss', 'lot', 'lotion', 'lotions', 'lotionscrub', 'lotionwild', 'lotus', 'lou', 'louisiana', 'lovage', 'love', 'lover', 'lovers', 'low', 'lower', 'lowered', 'lowest', 'lowfat', 'lrg', 'lt', 'lt5', 'lubie', 'lucidum', 'lucuma', 'lucy', 'luedante', 'lunapro', 'lunch', 'lung', 'luo', 'lupin', 'lupineflour', 'lupini', 'lurk', 'luscious', 'lutein', 'luxurious', 'lycium', 'lycopodium', 'lysine', 'lysozyme', 'mac', 'maca', 'macadamia', 'macadamias', 'macaroni', 'macarons', 'mace', 'machine', 'machinery', 'machines', 'mackerel', 'madagascar', 'madeira', 'madison', 'mafalda', 'magic', 'magnatum', 'magnesium', 'magnesium160', 'mahogany', 'mai', 'main', 'maine', 'mainly', 'maintain', 'maintains', 'maize', 'major', 'majorcan', 'make', 'makes', 'making', 'malate', 'malawi', 'malic', 'malicacid', 'malitol', 'mallow', 'malodextrin', 'malodor', 'malt', 'maltballs', 'malteada', 'malted', 'maltedextrin', 'maltitol', 'malto', 'maltodexrin', 'maltodextrin', 'maltodextrina', 'maltodextrine', 'maltodextrins', 'maltodextrrin', 'maltose', 'maltotame', 'maltrodextrin', 'malts', 'malve', 'mama', 'man', 'manager', 'mandarin', 'mandarins', 'manganese', 'manganous', 'mango', 'mangoes', 'mangos', 'mangosteen', 'manioc', 'manipulates', 'manita', 'mannitol', 'manoic', 'manoioc', 'mantain', 'manufacture', 'manufactured', 'manufactures', 'manufacturing', 'manuka', 'manzanilla', 'maple', 'maracarons', 'maraschino', 'marcona', 'margarine', 'marhula', 'maria', 'marianum', 'marigold', 'marinade', 'marinades', 'marinara', 'marinated', 'marine', 'marionberries', 'marjoram', 'mark', 'market', 'markets', 'marley', 'marmaladeplump', 'marmelos', 'mars', 'marsala', 'marshmallow', 'marshmallows', 'martini', 'martinson', 'mary', 'marzano', 'masa', 'masala', 'mascarpone', 'mash', 'mashed', 'masking', 'mass', 'massaman', 'master', 'masterpiece', 'matcha', 'mate', 'material', 'materials', 'maton', 'matsutake', 'matter', 'matural', 'mature', 'matzo', 'maufactures', 'max', 'maximum', 'maya', 'maybe', 'mayhaw', 'mayonnaise', 'mccormick', 'mccormicks', 'mcg', 'mcneil', 'mct', 'md', 'meal', 'meals', 'mealworms', 'means', 'measured', 'measures', 'meat', 'meatball', 'meatballs', 'meatloaf', 'mechanical', 'mechanically', 'medallions', 'medica', 'medical', 'medication', 'medications', 'mediterranean', 'medium', 'medley', 'meet', 'meeting', 'meg', 'mein', 'mejiliones', 'melaleuca', 'melange', 'melanosporum', 'melle', 'mellow', 'melon', 'melt', 'meltaways', 'melting', 'members', 'memory', 'menadione', 'menhaden', 'menta', 'menthol', 'mentos', 'meringue', 'merlot', 'merr', 'mesenteroides', 'mesquite', 'mess', 'message', 'messy', 'mesua', 'metabisulfate', 'metabisulfite', 'metabisulphite', 'metabolized', 'metal', 'metamyosyn', 'metaphosphate', 'metaplus', 'methionine', 'methods', 'methyl', 'methylcellulose', 'methylchloroisothiazolinone', 'methylisothiazolinone', 'methylparaben', 'metofluthrin', 'mexican', 'mexico', 'meyenii', 'meyer', 'mg', 'mg0sodium65', 'mg0sodium85', 'mg0sodium95', 'mg0total', 'mg3potassium135', 'mg4total', 'mian', 'mica', 'micheladas', 'michigan', 'micro', 'microbial', 'microcrystalline', 'microencapsulated', 'microencapsulatedmalic', 'microground', 'microwave', 'mid', 'middle', 'middlings', 'midgees', 'midnight', 'midways', 'mignon', 'migratory', 'mild', 'mildly', 'milk', 'milk25', 'milkdried', 'milkfat', 'milky', 'mille', 'milled', 'millers', 'millet', 'milligrams', 'million', 'milo', 'min', 'minced', 'mind', 'mineral', 'minerals', 'mini', 'miniatures', 'minimum', 'minis', 'minnesota', 'mint', 'mints', 'minute', 'minutes', 'miracle', 'mirepoix', 'mirin', 'miso', 'missing', 'mission', 'mithi', 'mix', 'mixassorted', 'mixcranberry', 'mixed', 'mixhumorous', 'mixing', 'mixpraline', 'mixsugar', 'miyoek', 'mizuame', 'mizuna', 'ml', 'mo', 'moatodextrin', 'mocha', 'mochi', 'mod', 'model', 'modena', 'moderate', 'moderates', 'modica', 'modifeid', 'modified', 'modifiedcornstarch', 'modifiedfoodstarch', 'modifier', 'modifiers', 'mogroside', 'mohave', 'moines', 'moist', 'moisture', 'molasses', 'mold', 'molina', 'molitor', 'mollusc', 'molluscan', 'molluscs', 'molybdate', 'molybdenum', 'moment', 'money', 'monk', 'monkfruit', 'mono', 'monoammonium', 'monocalcico', 'monocalcium', 'monoclacium', 'monodiglycerides', 'monoestearate', 'monoester', 'monoesters', 'monogleate', 'monoglyceride', 'monoglycerides', 'monoglyceridews', 'monohydrate', 'monohydrochloride', 'monoitrate', 'mononitrare', 'mononitrate', 'mononitratevitamin', 'mononitrato', 'mononitrite', 'monontrate', 'monooleate', 'monophosphate', 'monopotassium', 'monosodium', 'monosoduium', 'monostearate', 'monosterate', 'monotrate', 'monounsaturated', 'monster', 'montana', 'monterey', 'months', 'montmorency', 'moreish', 'morel', 'morena', 'mores', 'moringa', 'morio', 'morning', 'morsels', 'moshio', 'moss', 'mother', 'mothers', 'mould', 'mountain', 'mountains', 'mousses', 'mouth', 'moyer', 'mozuku', 'mozzarella', 'mr', 'msc', 'msg', 'mu', 'mucuna', 'muffin', 'muffins', 'mug', 'mulberries', 'mullet', 'multi', 'multigrain', 'multimineral', 'multiple', 'munch', 'mung', 'mungbean', 'muscovado', 'mush', 'mushroom', 'mushrooms', 'musketeers', 'mussels', 'mustard', 'mustardbeef', 'musts', 'musturd', 'mutton', 'mycoprotein', 'mycotic', 'myrciaria', 'myriad', 'myrtle', 'n51370', 'na', 'nacho', 'nacin', 'nagi060906', 'naks', 'nalt', 'nameko', 'namequantityunitdaily', 'nan', 'nana', 'napa', 'naranja', 'nat', 'natamyacin', 'natamycin', 'native', 'natoral', 'natural', 'naturaland', 'naturalandartificialflavoring', 'naturalandartificialflavors', 'naturalflavors', 'naturally', 'nature', 'natured', 'nautral', 'naval', 'navel', 'navy', 'nbsp100', 'nbspbeef', 'near', 'necessary', 'nectar', 'need', 'needed', 'needle', 'needs', 'needsnutrition', 'negligible', 'nelumbium', 'neotame', 'nero', 'nesting', 'nestl', 'nestle', 'nestled', 'net', 'nett', 'nettle', 'neuchatel', 'neufchatel', 'new', 'newline', 'newman', 'newmans', 'newmanstown', 'newton', 'nhh', 'niacin', 'niacin160', 'niacina', 'niacinamdie', 'niacinamide', 'nib', 'nibs', 'nice', 'nician', 'nicotidamine', 'nicotinamide', 'nicotinic', 'nigari', 'nigella', 'niger', 'nik', 'nilgiri', 'niruri', 'nisin', 'nitrate', 'nitrates', 'nitrite', 'nitrites', 'nitrogen', 'nitrogenated', 'nitrous', 'nj', 'no5', 'non', 'nondairy', 'nonfat', 'nongmoproject', 'nonhydrogenated', 'nonionic', 'nonmilk', 'nonni', 'nonnutritive', 'nonwheat', 'nonwoven', 'noodle', 'noodles', 'nop', 'nori', 'normally', 'north', 'northern', 'northwest', 'nose', 'nostalgic', 'note', 'notes', 'noticing', 'nougat', 'nova', 'nucifera', 'nuggest', 'nugget', 'nuggets', 'null', 'number', 'numi', 'numitea', 'nunes', 'nunne', 'nurnberg', 'nursing', 'nut', 'nutcracker', 'nutella', 'nutmeg', 'nutra', 'nutraflora', 'nutrient', 'nutrientamount', 'nutrients', 'nutrition', 'nutritional', 'nutritionally', 'nutritionals', 'nutritious', 'nutritive', 'nuts', 'nutter', 'nutty', 'ny', 'nyc', 'nyjer', 'nylon', 'oak', 'oakland', 'oat', 'oatbran', 'oatcakes', 'oatflour', 'oatmeal', 'oats', 'oblate', 'observe', 'obtained', 'occasion', 'occasional', 'occasions', 'occidentale', 'occidentalis', 'occur', 'occurring', 'occurs', 'ocean', 'octane', 'octopus', 'octyl', 'odd', 'odium', 'odor', 'odorless', 'odors', 'ofcornstarch', 'offer', 'offers', 'official', 'officinale', 'officinalis', 'offset', 'ofsilicon', 'ofthefollowing', 'oi', 'oil', 'oilbht', 'oilcalcium', 'oiled', 'oilenrichmentcalcium', 'oils', 'oilt', 'ojai', 'ok', 'okinawa', 'oko', 'okra', 'olay', 'old', 'olde', 'oldest', 'oleate', 'olefin', 'oleic', 'oleifera', 'olein', 'oleoresin', 'oleoresins', 'oleracea', 'oligofructose', 'oligosaccharide', 'oligosaccharides', 'olive', 'oliven', 'olives', 'olympos', 'omega', 'ongoing', 'onion', 'onions', 'oof', 'oolong', 'open', 'opened', 'opening', 'openingingredientsroasted', 'operate', 'operations', 'opportunities', 'optimal', 'optimum', 'orac', 'orange', 'orangejuicefromorangepureeconcentrate', 'oranges', 'orchard', 'orchards', 'order', 'oregand', 'oregano', 'oregon', 'oreo', 'org', 'organ', 'organic', 'organically', 'organiccontains', 'organisms', 'organoleptic', 'orgin', 'orgnaically', 'oriental', 'origen', 'origin', 'original', 'originally', 'orn', 'oroxylum', 'orthodox', 'orthophos', 'orthophosphate', 'orville', 'oryzae', 'orzo', 'osmanthus', 'osmosis', 'otheringredients', 'ounce', 'ounces', 'outdoor', 'outer', 'outstanding', 'oval', 'oven', 'overall', 'overdose', 'overflowing', 'overtones', 'oxidant', 'oxide', 'oxidizer', 'oxido', 'oxygen', 'oyster', 'oysters', 'oz', 'oz1', 'ozonated', 'ozservings', 'pa', 'pacific', 'pack', 'package', 'packaged', 'packages', 'packageservings', 'packaging', 'packed', 'packet', 'packets', 'packing', 'packs', 'pad', 'padano', 'paella', 'pai', 'paid', 'painted', 'pal', 'palak', 'palam', 'palate', 'paleo', 'palm', 'palma', 'palmaria', 'palmarosa', 'palmata', 'palmate', 'palmetto', 'palminate', 'palmitate', 'palmitatebhtpreservativefolic', 'palmitatefolic', 'palmitatevitamin', 'palmitic', 'palmitoyl', 'palmoil', 'palmolein', 'palourde', 'pam', 'pamax', 'pamel', 'pamela', 'pampering', 'pampers', 'pan', 'panax', 'pancake', 'pancakes', 'pancreatin', 'panel', 'panko', 'pantax', 'panthenol', 'pantothemate', 'pantothenate', 'pantothenic', 'papain', 'papaya', 'papayas', 'paper', 'paperboard', 'papercalculator', 'papri', 'paprica', 'paprika', 'par', 'parabens', 'paracasei', 'paradise', 'paraguariensis', 'parallels', 'parboiled', 'parcialmente', 'pareil', 'pareils', 'parents', 'paresan', 'pareve', 'parfried', 'parika', 'paris', 'parisian', 'park', 'parlsey', 'parmesan', 'parmesean', 'parmigiano', 'paroduct', 'parsley', 'parsnip', 'partally', 'partially', 'partiallyhydrogenatedsoybeanoil', 'particularly', 'partly', 'partner', 'partners', 'partnership', 'party', 'pasco', 'pasiflora', 'pass', 'passaic', 'passed', 'passion', 'passionfruit', 'passover', 'past', 'pasta', 'paste', 'pastel', 'pasteurised', 'pasteurize', 'pasteurized', 'pastilla', 'pastries', 'pastry', 'pastuerized', 'pasture', 'patch', 'patience', 'patients', 'patrially', 'patties', 'pau', 'pause', 'paws', 'pays', 'pc', 'pcs', 'pdo', 'pea', 'peach', 'peaches', 'peak', 'peans', 'peanu', 'peanut', 'peanutes', 'peanuts', 'peanutspepper', 'peanutssea', 'pear', 'pearl', 'pearled', 'pearlescent', 'pearlsblack', 'pearly', 'pears', 'peas', 'peasants', 'pease', 'pecan', 'pecans', 'pecent', 'pecorino', 'pectin', 'pectina', 'pectinase', 'pectins', 'peek', 'peel', 'peeled', 'peelroasted', 'peels', 'peeps', 'peg', 'pekoe', 'pelamis', 'pellets', 'peloponnese', 'penne', 'pentahydrate', 'pentahydratem', 'pentapeptide', 'pentasodium', 'pentetate', 'peony', 'people', 'pepinillos', 'pepitas', 'pepper', 'peppercorn', 'peppercorns', 'peppered', 'peppermint', 'pepperoncini', 'pepperoni', 'peppers', 'pepsin', 'peptide', 'pequin', 'percarbonate', 'percent', 'percentage', 'perfect', 'perfection', 'perfetti', 'perfume', 'perfumes', 'peri', 'perishable', 'permanent', 'permeate', 'permission', 'permitted', 'peroxide', 'perry', 'perservative', 'perserved', 'persian', 'person', 'personal', 'persons', 'peruviana', 'pesticides', 'petal', 'petals', 'pete', 'petite', 'petrolatum', 'pez', 'pg', 'pgi', 'pgpr', 'pgrp', 'ph', 'pharmaceutical', 'phate', 'pheasant', 'phenoxyethanol', 'phenylalanine', 'phenylanine', 'phenylkeonurics', 'phenylketonurics', 'phenylketonurnics', 'pheromones', 'pheur', 'phophate', 'phopshate', 'phosophate', 'phospahte', 'phospate', 'phosphat', 'phosphate', 'phosphatenewlistvitamins', 'phosphates', 'phosphonics', 'phosphoric', 'phosphorica', 'phosphorous', 'phosphorus', 'phosphorus160', 'phosphorusbrbrwarnings', 'phosporic', 'photo', 'photographs', 'phyllanthus', 'phylloquinone', 'phyrophosphate', 'physalis', 'physical', 'physically', 'phytonadione', 'phytonaidone', 'pian', 'pic6', 'picante', 'piccalilli', 'picked', 'pickle', 'pickled', 'pickles', 'pickling', 'pico', 'picolinate', 'picture', 'pie', 'piece', 'pieces', 'pieceservings', 'piecesservings', 'pies', 'pig', 'pigeon', 'pigments', 'pike', 'pilaf', 'pilchards', 'pilsner', 'pimenta', 'pimento', 'pimentos', 'pimiento', 'pimientos', 'pin', 'pinch', 'pine', 'pineapple', 'pineapples', 'pink', 'pinto', 'piper', 'pippin', 'piquillo', 'piquin', 'pirri', 'pirrouline', 'pistachio', 'pistachios', 'pistacia', 'pit', 'pita', 'pits', 'pitted', 'pitting', 'pizza', 'pizzazz', 'pkg', 'place', 'placed', 'plain', 'plam', 'planet', 'plant', 'plantains', 'plantation', 'planter', 'planters', 'plants', 'plastic', 'playing', 'pleasantly', 'pleased', 'pleasing', 'pleasure', 'plenty', 'pleurisy', 'plucked', 'plum', 'plums', 'plus', 'plush', 'plw178', 'poachers', 'poaching', 'poblano', 'pocket', 'pod', 'pods', 'poison', 'poiwder', 'poland', 'policy', 'polished', 'pollen', 'pollock', 'polo', 'poloxamer', 'polydextrose', 'polyester', 'polyethylene', 'polyglucitol', 'polyglycerol', 'polyglycitol', 'polymethylsilsesquioxane', 'polynicotinate', 'polyol', 'polyoxyethilenic', 'polyoxyethylene', 'polyphenols', 'polyphosphate', 'polyphosphates', 'polypropylene', 'polyquaternium', 'polyrhizus', 'polyricinoleate', 'polysaccharide', 'polysorbate', 'polyunsaturated', 'pomace', 'pomatia', 'pomegranate', 'pomegranates', 'pomegranite', 'ponceau', 'pop', 'popchips', 'popcorn', 'popped', 'popping', 'poppy', 'pops', 'popular', 'porcini', 'pore', 'poria', 'pork', 'porridge', 'portabella', 'portabello', 'portion', 'portioned', 'portions', 'portlock', 'portuguese', 'post', 'pot', 'pota', 'potasium', 'potassium', 'potato', 'potatoes', 'pouch', 'pouches', 'poultry', 'pound', 'pounds', 'pour', 'povidone', 'powd', 'powder', 'powdere', 'powdered', 'powders', 'powderspicesdisodium', 'poweder', 'powedr', 'power', 'powered', 'powerful', 'powwder', 'pp', 'ppc', 'ppg', 'ppm', 'pr', 'practices', 'praline', 'pralines', 'prawns', 'pre', 'prebiotic', 'precarbonate', 'precautionary', 'precious', 'preciously', 'precooked', 'predominance', 'predusted', 'prefecture', 'pregelatinized', 'pregnancy', 'pregnant', 'premium', 'premix', 'premna', 'preparation', 'preparations', 'prepared', 'prescribed', 'prescription', 'present', 'presented', 'preserative', 'preservation', 'preservative', 'preservativehigh', 'preservatives', 'preserve', 'preserved', 'preserves', 'preservesmilk', 'presevative', 'presrvative', 'press', 'pressed', 'presses', 'pressure', 'pretzel', 'pretzels', 'pretzelsalmond', 'pretzelsclaey', 'pretzelsonion', 'pretzelstortuga', 'prevent', 'prevents', 'price', 'priced', 'prices', 'pricing', 'pride', 'primal', 'primary', 'printed', 'prior', 'prized', 'prnotien', 'pro', 'probiotic', 'probiotics', 'problems', 'proc', 'procedures', 'process', 'processed', 'processes', 'processing', 'processingaid', 'procure', 'prodcuts', 'produce', 'produced', 'produces', 'producing', 'product', 'production', 'productmilk', 'products', 'productsthis', 'professional', 'professionals', 'profile', 'profits', 'programs', 'prohibit', 'project', 'prolonged', 'promise', 'promote', 'promotes', 'propane', 'propanol', 'propellant', 'propellants', 'proper', 'properties', 'propionate', 'propionatepreservativedatemgrain', 'propionatepreservativedatemmono', 'propionic', 'proportion', 'proportions', 'proprietary', 'proprionate', 'propyl', 'propylene', 'propylheptyl', 'propylparaben', 'proso', 'protease', 'protect', 'protection', 'protects', 'protein', 'proteinate', 'proteins', 'proteinsalt', 'proteinum', 'proteinxylitol', 'protine', 'proud', 'proudly', 'provance', 'proven', 'provence', 'provide', 'provider', 'provides', 'providing', 'province', 'provitamin', 'provolone', 'prtein', 'prune', 'prunes', 'prussiate', 'psyllium', 'pt', 'pu', 'puck', 'pudding', 'puddings', 'puff', 'puffed', 'puffs', 'puffwildflower', 'pulp', 'pulses', 'pumpkin', 'punch', 'puncture', 'pungent', 'punica', 'pur', 'purchase', 'pure', 'puree', 'pureed', 'purees', 'purified', 'puroast', 'purple', 'purpose', 'purse', 'purée', 'putting', 'puzzle', 'pvc', 'pvh', 'pyridocine', 'pyridoxinde', 'pyridoxine', 'pyro', 'pyrodoxine', 'pyrophates', 'pyrophosophates', 'pyrophosphate', 'pyrophosphates', 'pyrosphosphate', 'qai', 'qty', 'qu995', 'quai', 'quaker', 'qualities', 'quality', 'quantities', 'quantity', 'quartered', 'quasi', 'queen', 'quercetin', 'quesadilla', 'queso', 'question', 'questions', 'quick', 'quickly', 'quillaia', 'quills', 'quinine', 'quinnpopcorn', 'quinoa', 'quinoline', 'quite', 'r11', 'ra', 'racemosus', 'radgram', 'radicchio', 'radish', 'radishes', 'raffia', 'rahim', 'rail', 'rain', 'rainbow', 'rainforest', 'rainier', 'raised', 'raisin', 'raising', 'raisins', 'rakes', 'rama', 'ramen', 'ranch', 'rancher', 'range', 'rangers', 'rapeseed', 'rare', 'raspberries', 'raspberry', 'raspberryjuicefromconcentrate', 'rated', 'rave', 'ravioli', 'raw', 'rawhide', 'ray', 'razor', 'rbgh', 'rbst', 'rda', 'rdacalcium16016', 'rdairon16014', 'rdairon1604', 'rdavitamin', 'rdquo', 'reach', 'ready', 'real', 'realcup', 'really', 'reasons', 'reb', 'rebaudiana', 'rebaudioside', 'rebiana', 'reboflavin', 'recipe', 'recipeopen', 'recipes', 'recipies', 'reclaim', 'recognized', 'recommended', 'recommends', 'reconstitute', 'reconstituted', 'recutita', 'recyclable', 'recycle', 'recycled', 'recycles', 'red', 'red3', 'red40', 'redcurrant', 'redenbacher', 'redfish', 'redmond', 'redno', 'redo', 'reds', 'reduce', 'reduced', 'reduces', 'reducido', 'reducing', 'reduction', 'reel', 'reem', 'reese', 'ref', 'refined', 'refiner', 'refiners', 'refinery', 'reflect', 'reflects', 'reflux', 'refreshing', 'refreshment', 'refreshmentbr', 'refrigerate', 'refrigerated', 'reg', 'reggiano', 'region', 'registered', 'regular', 'regulations', 'regulator', 'regulators', 'rehab', 'rehydrate', 'rehydrated', 'reishi', 'related', 'relationships', 'relaxation', 'relaxer', 'relaxers', 'relaxing', 'release', 'relief', 'relish', 'remain', 'remarkable', 'remembered', 'remembrace', 'remote', 'remove', 'removed', 'removers', 'removing', 'rendered', 'renewable', 'renewal', 'rennet', 'renowned', 'renuzit', 'repacked', 'repeat', 'repens', 'replacer', 'replenishes', 'represents', 'republic', 'request', 'require', 'requirements', 'resealable', 'research', 'resemary', 'reserve', 'reserved', 'resin', 'resinous', 'resistance', 'resistant', 'responsibility', 'responsible', 'responsibly', 'result', 'results', 'retain', 'retained', 'retains', 'retard', 'retention', 'retired', 'retort', 'return', 'returnable', 'returned', 'reusable', 'reverse', 'revive', 'rhamnosus', 'rhizome', 'rhizopus', 'rhodinol', 'rhubarb', 'rib', 'ribbon', 'ribflavin', 'ribioflavin', 'ribloflavin', 'riboavin', 'ribof', 'ribofalvin', 'ribofl', 'riboflavin', 'riboflavin160', 'riboflavina', 'ribolflavin', 'ribonucleotide', 'ribonucleotides', 'ribose', 'ribotide', 'rice', 'riceflour', 'rices', 'ricesugarwhole', 'ricewhole', 'rich', 'richest', 'ricinoleic', 'ricotta', 'rigate', 'right', 'rights', 'rind', 'rinds', 'rings', 'rinse', 'rinses', 'rinsing', 'ripe', 'ripened', 'ripeness', 'rise', 'rising', 'risk', 'ritz', 'road', 'roast', 'roasted', 'roaster', 'roasters', 'roasting', 'roasts', 'robust', 'robusta', 'robustas', 'robusto', 'roca', 'rocher', 'rock', 'rodelle', 'rodellevanilla', 'roe', 'roes', 'rold', 'roll', 'rolled', 'rolls', 'romaine', 'romance', 'romanello', 'romano', 'rondnoir', 'rood', 'rooibos', 'room', 'rooms', 'root', 'roots', 'roqueforti', 'roquefortii', 'rosa', 'rosada', 'rose', 'rosebuds', 'rosehip', 'rosehips', 'rosemary', 'rosin', 'rosins', 'rosmarinus', 'rotini', 'rotisserie', 'rotundus', 'round', 'rounded', 'rounds', 'roux', 'rowland', 'royal', 'rub', 'rubbed', 'rubber', 'ruby', 'rugelach', 'rum', 'runs', 'rush', 'rusk', 'russell', 'russet', 'russian', 'rust', 'ruth', 'rye', 'sabdariffa', 'saccharin', 'saccharine', 'saccharomyces', 'sachet', 'saegertown', 'safe', 'safeguards', 'safety', 'safflower', 'saffron', 'safrole', 'sage', 'sago', 'saib', 'said', 'saigon', 'sake', 'sal', 'salad', 'salada', 'saladatea', 'salads', 'salame', 'salami', 'salamiall', 'salamis', 'salba', 'sale', 'sales', 'salina', 'salisbury', 'salmiac', 'salmiakzout', 'salmon', 'salsa', 'salt', 'saltbr', 'saltcorn', 'saltcrackers', 'salted', 'saltmonosodium', 'salts', 'salvia', 'samphire', 'san', 'sand', 'sandalwood', 'sandwich', 'sandwiches', 'santalum', 'sap', 'sarcosinate', 'sardinas', 'sardine', 'sardines', 'sargento', 'sarsaparilla', 'sassafras', 'sat', 'satisfaction', 'satisfy', 'satisfying', 'sativa', 'sativus', 'saturated', 'sau', 'sauc', 'sauce', 'sauces', 'saucewater', 'sausage', 'sausagebrie', 'sausages', 'sauteed', 'sauterne', 'sauvignon', 'saved', 'saves', 'savings', 'savory', 'saw', 'say', 'scallion', 'scallions', 'scallop', 'scallops', 'scary', 'scent', 'scented', 'scents', 'scentspetite', 'schidigera', 'schisandra', 'science', 'scientists', 'scj', 'scoby', 'scoop', 'scorching', 'scotch', 'scotia', 'scott', 'scottish', 'scrambled', 'sda', 'sea', 'seafood', 'seal', 'sealed', 'seals', 'search', 'seared', 'seasalt', 'seasame', 'season', 'seasonal', 'seasonally', 'seasoned', 'seasonin', 'seasoning', 'seasonings', 'seaweed', 'seaweeds', 'sec', 'second', 'secret', 'section', 'secure', 'securely', 'sedative', 'sediment', 'seed', 'seeded', 'seedless', 'seeds', 'segments', 'segregate', 'select', 'selected', 'selection', 'selects', 'selenate', 'selenite', 'selenium', 'self', 'sell', 'seller', 'selleri', 'selling', 'sells', 'semi', 'semillas', 'semisoft', 'semisweet', 'semolina', 'sen', 'sencha', 'senegal', 'senensis', 'senesis', 'senna', 'sense', 'sensitive', 'separated', 'separately', 'separation', 'serenoa', 'series', 'serings', 'seriously', 'serrano', 'serve', 'served', 'service', 'services', 'serving', 'servingdaily', 'servings', 'servingsnutrientamount', 'sesame', 'set', 'setting', 'settling', 'seven', 'severe', 'seville', 'sezchuan', 'sglaze', 'shade', 'shake', 'shaker', 'shallot', 'shallots', 'shamrock', 'shaped', 'shapes', 'share', 'shared', 'shares', 'sharp', 'shatavari', 'shaved', 'shea', 'sheanut', 'sheep', 'sheeps', 'sheet', 'sheets', 'shelf', 'shell', 'shellac', 'shelled', 'shellfish', 'shells', 'shelly', 'shelves', 'shen', 'sherry', 'shiitake', 'shimmer', 'shining', 'shipment', 'shipping', 'ships', 'shitake', 'shoots', 'shop', 'short', 'shortbread', 'shortcake', 'shortening', 'shorties', 'shou', 'shower', 'shown', 'shows', 'shredded', 'shrimp', 'shrink', 'shrub', 'siberian', 'sichuan', 'sicilian', 'sifted', 'sign', 'significant', 'silcon', 'silica', 'silicate', 'silico', 'silicoaluminate', 'silicon', 'silicone', 'silky', 'silver', 'silverskin', 'silybum', 'simmer', 'simpkins', 'simple', 'simply', 'sin', 'sinensis', 'single', 'singoda', 'sip', 'sirloin', 'sister', 'sit', 'site', 'sits', 'sixth', 'size', 'sized', 'skewers', 'skim', 'skimmed', 'skimmilk', 'skin', 'skinless', 'skins', 'skipjack', 'skittles', 'sku', 'skullcap', 'sky', 'slat', 'slavors', 'sleepingredientsspearmint', 'sleepytime', 'slice', 'sliced', 'slices', 'slightly', 'slimm', 'slow', 'slowly', 'slushies', 'small', 'smallanthus', 'smaller', 'smallest', 'smarties', 'smells', 'smiles', 'smith', 'smoke', 'smoked', 'smokey', 'smoky', 'smooth', 'smoothness', 'smothered', 'snack', 'snacks', 'snails', 'snapper', 'snickerdoodle', 'snickers', 'sniffer', 'snow', 'snyder', 'so2', 'soak', 'soaked', 'soap', 'social', 'society', 'sockeye', 'soda', 'sodas', 'sodilum', 'sodio', 'sodium', 'sodium125mg5potassium', 'sodiumbicarbonate', 'sodiumcitrate', 'sodiumphosphate', 'soduim', 'soft', 'softener', 'softeners', 'softening', 'soil', 'soiree', 'soja', 'solanum', 'solar', 'sold', 'soldiers', 'solely', 'solid', 'solids', 'soluable', 'solubility', 'solubilizer', 'solubilizers', 'soluble', 'solution', 'solvent', 'solvents', 'somen', 'somnifera', 'sonchifolus', 'sonoma', 'soon', 'soothe', 'soothing', 'sophisticated', 'sorbate', 'sorbet', 'sorbic', 'sorbital', 'sorbitan', 'sorbitol', 'sorbotol', 'sorghum', 'sot', 'sotbean', 'sou', 'soup', 'soups', 'sour', 'source', 'sourced', 'sourcedmade', 'sources', 'sourcing', 'sourdough', 'sourpatchkids', 'sours', 'south', 'southern', 'southwest', 'souvenir', 'sovie', 'soy', 'soy60', 'soya', 'soyabean', 'soyacocoa', 'soyalecithin', 'soybean', 'soybeans', 'soyben', 'soybena', 'soydark', 'soylecithin', 'soymanufactured', 'soymilk', 'spa', 'spaces', 'spaetzle', 'spaghetti', 'spain', 'spanish', 'spans', 'sparkling', 'speaks', 'spearmint', 'speci', 'special', 'specially', 'specialty', 'species', 'specific', 'speciosum', 'specks', 'spectrum', 'speedwell', 'spelt', 'spenda', 'spicatum', 'spice', 'spiced', 'spices', 'spicy', 'spies', 'spinach', 'spinacia', 'spinich', 'spinner', 'spirit', 'spirits', 'spirulina', 'spis', 'splash', 'splenda', 'split', 'spoilage', 'spoonservings', 'spoonsred', 'spores', 'sports', 'spout', 'spp', 'spray', 'sprayed', 'spread', 'spreaditem', 'spreads', 'spreadsmoked', 'sprig', 'spring', 'springs', 'sprinkle', 'sprinkled', 'sprinkles', 'sprout', 'sprouted', 'sprouts', 'spy', 'square', 'squared', 'squares', 'squaretoasted', 'squash', 'squeaky', 'squeezed', 'squid', 'squids', 'squirrel', 'sri', 'sriracha', 'ss', 'st', 'stabiliser', 'stabilisers', 'stabilize', 'stabilized', 'stabilizer', 'stabilizers', 'stable', 'stalk', 'stalks', 'standard', 'standardized', 'standards', 'stands', 'staple', 'staples', 'star', 'starbucks', 'starburst', 'starch', 'starches', 'starlight', 'stars', 'start', 'startch', 'started', 'starter', 'starts', 'stash', 'stat', 'state', 'statement', 'statements', 'states', 'steak', 'steamed', 'stearate', 'stearic', 'stearin', 'stearine', 'stearoyl', 'stearyl', 'steel', 'steep', 'steeping', 'steerate', 'stellar', 'stem', 'step', 'stereopermum', 'steriliser', 'sterilize', 'sterol', 'steroyl', 'stevia', 'stevie', 'steviol', 'steviosides', 'stevita', 'stew', 'stewed', 'stews', 'stick', 'sticking', 'sticks', 'sticky', 'stinging', 'stink', 'stir', 'stock', 'stocks', 'stomach', 'stone', 'stoneground', 'stoneridge', 'stop', 'stops', 'storage', 'store', 'storefront', 'story', 'stove', 'stover', 'str', 'straight', 'strand', 'strawberries', 'strawberrieshigh', 'strawberry', 'straws', 'strawsflorida', 'strawskey', 'strength', 'streptococcus', 'string', 'strings', 'strip', 'striped', 'stripes', 'strips', 'strive', 'strois', 'strong', 'stroudsburg', 'structured', 'stud', 'stuf', 'stuff', 'stuffed', 'style', 'stylish', 'styrene', 'suagr', 'suaveolens', 'sub', 'subsp', 'substance', 'substances', 'substitute', 'substitutions', 'subtilis', 'subtle', 'successful', 'succinate', 'succinic', 'succrose', 'succulent', 'sucralean', 'sucralose', 'sucrolose', 'sucrose', 'sudoku', 'suet', 'sufficient', 'suga', 'sugar', 'sugarcane', 'sugars', 'sugary', 'sugratose', 'suitable', 'sulfate', 'sulfates', 'sulfatesoy', 'sulfatevitamin', 'sulfating', 'sulfato', 'sulfite', 'sulfites', 'sulfitescontains', 'sulfiting', 'sulfonate', 'sulfonic', 'sulfosuccinate', 'sulfur', 'sulfure', 'sulphate', 'sulpher', 'sulphite', 'sulphites', 'sulphur', 'sultanas', 'sumac', 'sumatra', 'summer', 'summerdown', 'sun', 'sunbutter', 'sunchips', 'sundried', 'sunflower', 'sunflowers', 'sunflowr', 'sunkistfruitgems', 'sunlight', 'sunny', 'sunower', 'sunshine', 'super', 'superfood', 'superfoods', 'superfruit', 'superior', 'supervision', 'supplement', 'supplementing', 'supplements', 'supply', 'support', 'supports', 'supreme', 'sure', 'surface', 'surfaces', 'surfactant', 'surfactants', 'surgeons', 'surprisingly', 'survives', 'sus', 'sushi', 'sustainability', 'sustainable', 'sustainably', 'sustaining', 'swallow', 'swallowed', 'swater', 'swear', 'swedish', 'sweet', 'sweetcorn', 'sweeten', 'sweetened', 'sweetener', 'sweeteners', 'sweetenerwatercitric', 'sweetening', 'sweetest', 'sweethearts', 'sweetleaf', 'sweetner', 'sweetners', 'sweetness', 'sweets', 'swirl', 'swiss', 'switzerland', 'sylvestre', 'symbol', 'synthetic', 'synthetics', 'syrop', 'syrub', 'syrup', 'syrups', 'syrupsaltmalt', 'syrupsoy', 'syrupwheat', 'syrur', 'systems', 'syurp', 'syzygium', 'szechuan', 'tabasco', 'tabascoreg', 'tabelspoon', 'table', 'tablespoon', 'tablespoonservings', 'tacca', 'tack', 'taco', 'tags', 'tahina', 'tahini', 'tahitensis', 'taken', 'takes', 'taking', 'takis', 'talc', 'tale', 'talking', 'tall', 'tallow', 'tamala', 'tamari', 'tamarind', 'tamarindpulp', 'tamarinds', 'tamaryokucha', 'tamper', 'tan', 'tandori', 'tangerine', 'tango', 'tangy', 'tannic', 'tapatio', 'tapioca', 'tapiocasyrup', 'taraxacum', 'taro', 'tarocco', 'tarragon', 'tart', 'tartar', 'tartaric', 'tartaricacid', 'tartate', 'tarter', 'tartness', 'tartrate', 'tartrazine', 'tarts', 'tartufo', 'taste', 'tasted', 'tastefully', 'tasteingredients', 'tastes', 'tastier', 'tasting', 'tasty', 'tattoo', 'taurine', 'tazo', 'tbho', 'tbhq', 'tbht', 'tbsp', 'tbspservings', 'te', 'tea', 'teacle', 'teapot', 'tear', 'teas', 'teaspoon', 'teaspoonful', 'teast', 'teatime', 'tech', 'tee', 'teeccino', 'teff', 'tell', 'tellicherry', 'temperature', 'temperatures', 'tempura', 'tender', 'tenderloins', 'tenebrio', 'tennesee', 'tennessee', 'tequila', 'teriyaki', 'terminalia', 'terpenes', 'terrestris', 'tert', 'tes', 'tests', 'tetra', 'tetraacetic', 'tetramethrin', 'tetrapotassium', 'tetrasodium', 'texamati', 'texmati', 'text', 'texture', 'textured', 'texturied', 'texturizer', 'thai', 'thaimin', 'than1', 'thank', 'thatcher', 'thatcontain', 'thbq', 'theanine', 'themed', 'therapy', 'thermophilum', 'thermophilus', 'thermpohilus', 'thiamane', 'thiamin', 'thiamin160', 'thiamine', 'thickener', 'thickeners', 'thickening', 'thicket', 'thigh', 'thighs', 'thing', 'things', 'think', 'thins', 'thistle', 'thomas', 'thompson', 'thoroughly', 'thoughtful', 'thousand', 'threads', 'thrive', 'thrives', 'thunnus', 'thyme', 'ti', 'tiamina', 'tie', 'tied', 'tiger', 'tigernuts', 'tightly', 'tightrope', 'tila', 'tilapia', 'tilia', 'tilth', 'time', 'times', 'timothy', 'tin', 'tinospora', 'tiny', 'tip', 'tips', 'tiramisu', 'titanium', 'titaniumdioxidecolor', 'titianium', 'titled', 'tm', 'toamto', 'toasated', 'toastchee', 'toasted', 'toasty', 'tobacco', 'toblerone', 'tochopherols', 'tocopherol', 'tocopherolreduced', 'tocopherols', 'tocopheryl', 'today', 'toffee', 'toffeesmoked', 'tofu', 'toilet', 'told', 'toll', 'tom', 'tomate', 'tomates', 'tomatillo', 'tomatillos', 'tomato', 'tomatoe', 'tomatoes', 'tomentosa', 'ton', 'tonada', 'tone', 'tongol', 'tonic', 'tons', 'took', 'tooth', 'tootsie', 'topioca', 'topped', 'topper', 'toppers', 'topping', 'toppingapple', 'toppings', 'topsoil', 'topus', 'toronjil', 'tortilla', 'tortillas', 'tortuga', 'torula', 'tose', 'total', 'total110160calories', 'tote', 'touch', 'tough', 'toulouse', 'town', 'tra', 'trace', 'traceability', 'traces', 'trade', 'tradeallergy', 'traded', 'trademark', 'trademarks', 'trading', 'tradition', 'traditional', 'traditionally', 'traditions', 'tragacant', 'tragacanth', 'trail', 'training', 'trans', 'transform', 'transglutaminase', 'tratrazine', 'travel', 'traveled', 'travelers', 'tray', 'treacle', 'treasure', 'treat', 'treated', 'treaters', 'treatment', 'treats', 'tree', 'treenuts', 'trees', 'trehalose', 'tremella', 'tri', 'triacetin', 'triangle', 'tribasic', 'tribes', 'tribulus', 'tricalcium', 'trichoderma', 'tricitrate', 'trick', 'triclosan', 'tried', 'triethanolamine', 'triglyceride', 'triglycerides', 'trigo', 'trim', 'trinket', 'triphosphate', 'triphosphates', 'triple', 'tripoli', 'tripoly', 'tripolyphosphate', 'tripotassium', 'trips', 'trisodium', 'tristearate', 'trit', 'triticale', 'triticum', 'trivial', 'trolli', 'tropical', 'true', 'truffle', 'truffles', 'trufflesmilk', 'truly', 'trunk', 'truvia', 'try', 'tryptophan', 'tsp', 'tspservings', 'ttree', 'tube', 'tuber', 'tubes', 'tully', 'tullyscoffee', 'tulsi', 'tumeric', 'tuna', 'tunisia', 'turbinado', 'turkey', 'turkish', 'turme', 'turmeric', 'turmerics', 'turn', 'turnera', 'turnip', 'turtle', 'tuscany', 'tuver', 'twain', 'twice', 'twining', 'twinings', 'twiningsusa', 'twist', 'twists', 'twistschocolate', 'twitter', 'twix', 'two_percent', 'type', 'types', 'typical', 'typically', 'tyrosine', 'uht', 'uk', 'ulants', 'ulcers', 'ultimate', 'ultra', 'ultragrain', 'unadulterated', 'unblanched', 'unbleached', 'unbleacjhed', 'unbromated', 'uncaria', 'uncleached', 'unconscious', 'uncured', 'undergo', 'undergoes', 'unenriched', 'unfiltered', 'unfinished', 'unflavored', 'unflower', 'unheated', 'unhulled', 'unhydrogenated', 'uniform', 'union', 'unique', 'unit', 'united', 'units', 'unleavened', 'unless', 'unlike', 'unmasks', 'unmodified', 'unneeded', 'unopened', 'unpainted', 'unparalleled', 'unpasteurized', 'unpitted', 'unrefined', 'unrefines', 'unsalted', 'unsealed', 'unsulfured', 'unsulphured', 'unsweetend', 'unsweetened', 'unused', 'update', 'updated', 'upright', 'ups', 'urad', 'uraria', 'urea', 'usa', 'usda', 'use', 'used', 'uses', 'using', 'usual', 'utero', 'uva', 'v100', 'v25', 'vacuum', 'vaillin', 'valencia', 'valentine', 'valerian', 'valeriana', 'valine', 'valley', 'valuable', 'value', 'valuecalories', 'valuecalories0160calories', 'valuecalories0160total', 'valuecalories100160calories', 'valuecalories10160calories', 'valuecalories10160total', 'valuecalories110160calories', 'valuecalories120160calories', 'valuecalories130160calories', 'valuecalories130160saturated', 'valuecalories140160calories', 'valuecalories150160calories', 'valuecalories15160calories', 'valuecalories160160calories', 'valuecalories170160calories', 'valuecalories180160calories', 'valuecalories180160saturated', 'valuecalories190160calories', 'valuecalories190160fat', 'valuecalories200160calories', 'valuecalories20160total', 'valuecalories210160calories', 'valuecalories220160calories', 'valuecalories25160calories', 'valuecalories25160sodium130mg160fat0g160carbohydrates2g160cholesterol0mg160sugar0g160fiber0g160', 'valuecalories270160calories', 'valuecalories30160calories', 'valuecalories40160calories', 'valuecalories40160sodium240mg10total', 'valuecalories4160total', 'valuecalories5160calories', 'valuecalories60160calories', 'valuecalories66160calories', 'valuecalories70160calories', 'valuecalories70160total', 'valuecalories80160calories', 'valuecalories90160calories', 'values', 'valuesodium40mg160', 'valuetotal', 'van', 'vana', 'vanilla', 'vanillin', 'vannamei', 'vapor', 'vapors', 'variable', 'varies', 'varieties', 'variety', 'vary', 'varying', 'vasica', 've', 'veal', 'veg', 'vegan', 'vegetabl', 'vegetable', 'vegetableandfruitjuice', 'vegetables', 'vegetarian', 'vegetarians', 'veggie', 'velvet', 'velvety', 'venezuelan', 'venison', 'ventilation', 'vera', 'verbena', 'vergine', 'verification', 'verified', 'vermicelli', 'vermont', 'vermouth', 'verona', 'version', 'vetable', 'veterinarian', 'veterinary', 'vhili', 'vibrant', 'vidalia', 'viengar', 'vietnam', 'vietnamese', 'view', 'village', 'villosa', 'vinagre', 'vine', 'vinega', 'vinegar', 'vinegarcalcium', 'vinegarmonoglyceridescitric', 'vinegars', 'vinifera', 'viotin', 'virgil', 'virgin', 'virginia', 'viscosity', 'visit', 'vit', 'vital', 'vitami', 'vitamin', 'vitamina', 'vitaminb12', 'vitamins', 'vitaminstaurineglucuonolactonecaffeineacesulfame', 'vitex', 'vitis', 'vitt', 'vlasic', 'vodka', 'vol', 'volcanic', 'volume', 'vomiting', 'votive', 'vs', 'vt', 'vue', 'vulgare', 'vulgaris', 'wafer', 'wafers', 'waffeletten', 'waffels', 'waffle', 'wage', 'wagyu', 'wakame', 'wakayama', 'walkers', 'walnut', 'walnuts', 'want', 'warheads', 'warm', 'warning', 'warningcontains', 'warningrecommended', 'warnings', 'wasabi', 'wash', 'washed', 'washhand', 'washington', 'waste', 'water', 'waterbr', 'watercress', 'watermelon', 'watermsalt', 'waters', 'waterspring', 'waves', 'wax', 'waxed', 'waxy', 'way', 'ways', 'wc2', 'wealth', 'wear', 'wearing', 'weber', 'webers', 'website', 'weed', 'wehani', 'weight', 'wellness', 'welsh', 'west', 'western', 'wheat', 'wheat160namequantityunitdaily', 'wheatflour', 'wheatgerm', 'wheatgrass', 'wheatpeanutsmilk', 'wheatsugarpecanscorn', 'wheatwheat', 'whest', 'whet', 'whev', 'whey', 'whey160', 'whine', 'whipping', 'whiskey', 'whit', 'white', 'whitefish', 'whiteness', 'whitening', 'whites', 'whol', 'wholegrain', 'wholemeal', 'wholemilk', 'wholesale', 'wholesome', 'wholewheat', 'whopper', 'whoppers', 'wick', 'wide', 'width', 'wild', 'wildberry', 'wilderness', 'wildflower', 'wildlife', 'wilds', 'williams', 'willow', 'wiltshire', 'wind', 'wine', 'winter', 'wintergreen', 'wipe', 'wire', 'wisconsin', 'wisdom', 'wise', 'withania', 'wny', 'women', 'won', 'wonderful', 'wonderland', 'wonton', 'wood', 'wooded', 'wooden', 'worcester', 'worcestershire', 'worchestershire', 'work', 'workers', 'working', 'works', 'world', 'worldwide', 'worn', 'worsens', 'wort', 'woven', 'wrap', 'wrapped', 'wrappers', 'write', 'written', 'wt', 'wu', 'wuyi', 'www', 'wyoming', 'x10', 'x3', 'xantahn', 'xantham', 'xanthan', 'xanthangum', 'xanthocarpum', 'xanthum', 'xantnan', 'xathan', 'xerces', 'xxx', 'xylene', 'xylitol', 'yacon', 'yam', 'yan', 'yarrow', 'year', 'years', 'yearsclosely', 'yeast', 'yeasts', 'yel', 'yell', 'yellow', 'yellowfin', 'yellows', 'yerba', 'yerbabuena', 'yes', 'yi', 'yield', 'yields', 'yodada', 'yoghurt', 'yogurt', 'yolk', 'yolks', 'york', 'yoshida', 'youll', 'young', 'yoyos', 'yuca', 'yucca', 'yuzu', 'ywllow', 'zaba', 'zahrada', 'zanahorias', 'zante', 'zanzibar', 'zealand', 'zedoaria', 'zero', 'zest', 'zeylanicum', 'zin', 'zinc', 'zinc160', 'zinger', 'zip', 'ziploc', 'zodicarbonamide', 'zombie', 'zucchini']\n"
          ],
          "name": "stdout"
        }
      ]
    },
    {
      "cell_type": "code",
      "metadata": {
        "id": "dlBzRCaGN0Dj",
        "colab_type": "code",
        "colab": {
          "base_uri": "https://localhost:8080/",
          "height": 529
        },
        "outputId": "5d72c60f-c644-43b7-fdd7-040e054addfd"
      },
      "source": [
        "  get_favorite_meal('Jolly Time Popcorn')"
      ],
      "execution_count": 129,
      "outputs": [
        {
          "output_type": "execute_result",
          "data": {
            "text/html": [
              "<div>\n",
              "<style scoped>\n",
              "    .dataframe tbody tr th:only-of-type {\n",
              "        vertical-align: middle;\n",
              "    }\n",
              "\n",
              "    .dataframe tbody tr th {\n",
              "        vertical-align: top;\n",
              "    }\n",
              "\n",
              "    .dataframe thead th {\n",
              "        text-align: right;\n",
              "    }\n",
              "</style>\n",
              "<table border=\"1\" class=\"dataframe\">\n",
              "  <thead>\n",
              "    <tr style=\"text-align: right;\">\n",
              "      <th></th>\n",
              "      <th>name</th>\n",
              "      <th>features_value</th>\n",
              "    </tr>\n",
              "  </thead>\n",
              "  <tbody>\n",
              "    <tr>\n",
              "      <th>5122</th>\n",
              "      <td>Pixy Sticks Bulk (2 lb Bag)</td>\n",
              "      <td>Dextrose,Citric Acid,And Less Than 2% Of Artif...</td>\n",
              "    </tr>\n",
              "    <tr>\n",
              "      <th>5944</th>\n",
              "      <td>Smarties Tropical Candy Rolls</td>\n",
              "      <td>Dextrose,citric acid,calcium stearate,natural ...</td>\n",
              "    </tr>\n",
              "    <tr>\n",
              "      <th>5974</th>\n",
              "      <td>Smarties X-TREME Sour Rolls</td>\n",
              "      <td>Dextrose, citric acid, calcium stearate, natur...</td>\n",
              "    </tr>\n",
              "    <tr>\n",
              "      <th>6382</th>\n",
              "      <td>Smarties Original 4.5 lbs Assorted Flavor Cand...</td>\n",
              "      <td>Dextrose,Citric Acid,Calcium Stearate,Natural ...</td>\n",
              "    </tr>\n",
              "    <tr>\n",
              "      <th>1122</th>\n",
              "      <td>Wonka Pixy Stix, Assorted, 4 oz (113.3 g)</td>\n",
              "      <td>Dextrose,Maltodextrin,Citric Acid,and Less Tha...</td>\n",
              "    </tr>\n",
              "    <tr>\n",
              "      <th>9430</th>\n",
              "      <td>Wonka Rainbow Nerds</td>\n",
              "      <td>Dextrose,Sugar,Malic Acid,and Less than 2% of ...</td>\n",
              "    </tr>\n",
              "    <tr>\n",
              "      <th>3158</th>\n",
              "      <td>M_M'S Almond Chocolate Candy Bag, 9.9 oz</td>\n",
              "      <td>Milk Chocolate (Sugar,Chocolate,Cocoa Butter,S...</td>\n",
              "    </tr>\n",
              "    <tr>\n",
              "      <th>2688</th>\n",
              "      <td>MM's Minis Chocolate Candies, Milk Chocolate, ...</td>\n",
              "      <td>Milk Chocolate (Sugar, Chocolate, Skim Milk, C...</td>\n",
              "    </tr>\n",
              "    <tr>\n",
              "      <th>1564</th>\n",
              "      <td>M_M's Fun Size Peanut Chocolate Candies, 18.8 oz</td>\n",
              "      <td>Milk Chocolate (Sugar,Chocolate,Cocoa Butter,S...</td>\n",
              "    </tr>\n",
              "    <tr>\n",
              "      <th>6874</th>\n",
              "      <td>Skittles Original Candy Bag, 14 OZ</td>\n",
              "      <td>Sugar, Corn Syrup, Hydrogenated Palm Kernel Oi...</td>\n",
              "    </tr>\n",
              "  </tbody>\n",
              "</table>\n",
              "</div>"
            ],
            "text/plain": [
              "                                                   name                                     features_value\n",
              "5122                        Pixy Sticks Bulk (2 lb Bag)  Dextrose,Citric Acid,And Less Than 2% Of Artif...\n",
              "5944                      Smarties Tropical Candy Rolls  Dextrose,citric acid,calcium stearate,natural ...\n",
              "5974                        Smarties X-TREME Sour Rolls  Dextrose, citric acid, calcium stearate, natur...\n",
              "6382  Smarties Original 4.5 lbs Assorted Flavor Cand...  Dextrose,Citric Acid,Calcium Stearate,Natural ...\n",
              "1122          Wonka Pixy Stix, Assorted, 4 oz (113.3 g)  Dextrose,Maltodextrin,Citric Acid,and Less Tha...\n",
              "9430                                Wonka Rainbow Nerds  Dextrose,Sugar,Malic Acid,and Less than 2% of ...\n",
              "3158           M_M'S Almond Chocolate Candy Bag, 9.9 oz  Milk Chocolate (Sugar,Chocolate,Cocoa Butter,S...\n",
              "2688  MM's Minis Chocolate Candies, Milk Chocolate, ...  Milk Chocolate (Sugar, Chocolate, Skim Milk, C...\n",
              "1564   M_M's Fun Size Peanut Chocolate Candies, 18.8 oz  Milk Chocolate (Sugar,Chocolate,Cocoa Butter,S...\n",
              "6874                 Skittles Original Candy Bag, 14 OZ  Sugar, Corn Syrup, Hydrogenated Palm Kernel Oi..."
            ]
          },
          "metadata": {
            "tags": []
          },
          "execution_count": 129
        }
      ]
    },
    {
      "cell_type": "code",
      "metadata": {
        "id": "sy-dGr7yLRRI",
        "colab_type": "code",
        "colab": {
          "base_uri": "https://localhost:8080/",
          "height": 637
        },
        "outputId": "207aedfd-4c65-48f8-c6e6-f72aadf36ecf"
      },
      "source": [
        "food_data.head(8)"
      ],
      "execution_count": 69,
      "outputs": [
        {
          "output_type": "execute_result",
          "data": {
            "text/html": [
              "<div>\n",
              "<style scoped>\n",
              "    .dataframe tbody tr th:only-of-type {\n",
              "        vertical-align: middle;\n",
              "    }\n",
              "\n",
              "    .dataframe tbody tr th {\n",
              "        vertical-align: top;\n",
              "    }\n",
              "\n",
              "    .dataframe thead th {\n",
              "        text-align: right;\n",
              "    }\n",
              "</style>\n",
              "<table border=\"1\" class=\"dataframe\">\n",
              "  <thead>\n",
              "    <tr style=\"text-align: right;\">\n",
              "      <th></th>\n",
              "      <th>id</th>\n",
              "      <th>brand</th>\n",
              "      <th>features_value</th>\n",
              "      <th>manufacturer</th>\n",
              "      <th>name</th>\n",
              "      <th>weight</th>\n",
              "    </tr>\n",
              "  </thead>\n",
              "  <tbody>\n",
              "    <tr>\n",
              "      <th>0</th>\n",
              "      <td>1</td>\n",
              "      <td>Simon Fischer</td>\n",
              "      <td>Dried Prunes,Water,Corn Syrup,Sugar,Pectin.</td>\n",
              "      <td>Sokol And Company</td>\n",
              "      <td>Simon Fischer Fruit Bttr Prune Lekvar</td>\n",
              "      <td>10.6 pounds</td>\n",
              "    </tr>\n",
              "    <tr>\n",
              "      <th>1</th>\n",
              "      <td>2</td>\n",
              "      <td>McCormick</td>\n",
              "      <td>Salt,Sugar,Molasses (Refinery Syrup, Molasses,...</td>\n",
              "      <td>McCormick &amp; Co, Inc</td>\n",
              "      <td>McCORMICK GRILL MATES MOLASSES BACON SEASONING...</td>\n",
              "      <td>3.5 ounces</td>\n",
              "    </tr>\n",
              "    <tr>\n",
              "      <th>2</th>\n",
              "      <td>3</td>\n",
              "      <td>Jolly Time</td>\n",
              "      <td>Salt, Yellow 5 Lake, Tricalcium Phosphate And ...</td>\n",
              "      <td>Reese's</td>\n",
              "      <td>Jolly Time Popcorn</td>\n",
              "      <td>1.8 pounds</td>\n",
              "    </tr>\n",
              "    <tr>\n",
              "      <th>3</th>\n",
              "      <td>4</td>\n",
              "      <td>Ziyad</td>\n",
              "      <td>Mechanically hulled seasame seeds.Allergy Info...</td>\n",
              "      <td>Ziyad</td>\n",
              "      <td>Ziyad Tahini Sesame Sauce</td>\n",
              "      <td>1.6 pounds</td>\n",
              "    </tr>\n",
              "    <tr>\n",
              "      <th>4</th>\n",
              "      <td>5</td>\n",
              "      <td>Fla-Vor-Ice</td>\n",
              "      <td></td>\n",
              "      <td>Fla-Vor-Ice</td>\n",
              "      <td>Fla-Vor-Ice Plus Giant Pops</td>\n",
              "      <td>18 pounds</td>\n",
              "    </tr>\n",
              "    <tr>\n",
              "      <th>5</th>\n",
              "      <td>6</td>\n",
              "      <td>Hero</td>\n",
              "      <td>Red Raspberries,Sugar,Glucose Syrup,Citric Aci...</td>\n",
              "      <td>HERO, INC.</td>\n",
              "      <td>Hero Fruit Sprd Blk Currant-12 Oz -pack of 8</td>\n",
              "      <td>3.5 lbs</td>\n",
              "    </tr>\n",
              "    <tr>\n",
              "      <th>6</th>\n",
              "      <td>7</td>\n",
              "      <td>Simply Asia</td>\n",
              "      <td>Noodles: wheat flour,water,wheat gluten,modifi...</td>\n",
              "      <td>Simply Asia</td>\n",
              "      <td>Simply Asia Noodle Bowl Mandarin Orange -- 8.5 oz</td>\n",
              "      <td>3.4 pounds</td>\n",
              "    </tr>\n",
              "    <tr>\n",
              "      <th>7</th>\n",
              "      <td>8</td>\n",
              "      <td>EMERIL S</td>\n",
              "      <td>Wheat Flour,Soybean Oil,Salt,Dehydrated Garlic...</td>\n",
              "      <td>B&amp;G Foods, Inc.</td>\n",
              "      <td>Italian Bread Crumbs</td>\n",
              "      <td>NaN</td>\n",
              "    </tr>\n",
              "  </tbody>\n",
              "</table>\n",
              "</div>"
            ],
            "text/plain": [
              "   id  ...       weight\n",
              "0   1  ...  10.6 pounds\n",
              "1   2  ...   3.5 ounces\n",
              "2   3  ...   1.8 pounds\n",
              "3   4  ...   1.6 pounds\n",
              "4   5  ...    18 pounds\n",
              "5   6  ...      3.5 lbs\n",
              "6   7  ...   3.4 pounds\n",
              "7   8  ...          NaN\n",
              "\n",
              "[8 rows x 6 columns]"
            ]
          },
          "metadata": {
            "tags": []
          },
          "execution_count": 69
        }
      ]
    },
    {
      "cell_type": "code",
      "metadata": {
        "id": "1Da6bMYhiRkW",
        "colab_type": "code",
        "colab": {
          "base_uri": "https://localhost:8080/",
          "height": 495
        },
        "outputId": "7ad3d0cf-6470-43eb-bc00-8b486cac9573"
      },
      "source": [
        "get_favorite_meal('Italian Bread Crumbs')"
      ],
      "execution_count": 130,
      "outputs": [
        {
          "output_type": "execute_result",
          "data": {
            "text/html": [
              "<div>\n",
              "<style scoped>\n",
              "    .dataframe tbody tr th:only-of-type {\n",
              "        vertical-align: middle;\n",
              "    }\n",
              "\n",
              "    .dataframe tbody tr th {\n",
              "        vertical-align: top;\n",
              "    }\n",
              "\n",
              "    .dataframe thead th {\n",
              "        text-align: right;\n",
              "    }\n",
              "</style>\n",
              "<table border=\"1\" class=\"dataframe\">\n",
              "  <thead>\n",
              "    <tr style=\"text-align: right;\">\n",
              "      <th></th>\n",
              "      <th>name</th>\n",
              "      <th>features_value</th>\n",
              "    </tr>\n",
              "  </thead>\n",
              "  <tbody>\n",
              "    <tr>\n",
              "      <th>22</th>\n",
              "      <td>Spice Islands: Powder Garlic, 2.25 Oz</td>\n",
              "      <td>Garlic Powder</td>\n",
              "    </tr>\n",
              "    <tr>\n",
              "      <th>133</th>\n",
              "      <td>Tone's: Powder Garlic, .9 Oz</td>\n",
              "      <td>Garlic Powder</td>\n",
              "    </tr>\n",
              "    <tr>\n",
              "      <th>4237</th>\n",
              "      <td>Old London Roasted Garlic</td>\n",
              "      <td>Wheat Flour,Whole Wheat Flour,Palm Oil,Oat Fib...</td>\n",
              "    </tr>\n",
              "    <tr>\n",
              "      <th>1298</th>\n",
              "      <td>Chef Paul Prudhomme's Magic Vegetable Seasonin...</td>\n",
              "      <td>Salt,Dehydrated Onion,Spices,And Dehydrated Ga...</td>\n",
              "    </tr>\n",
              "    <tr>\n",
              "      <th>1260</th>\n",
              "      <td>Farm Rich Buffalo Style Boneless Chicken Bites...</td>\n",
              "      <td>Chicken: White Meat Chicken,Water,Wheat Flour,...</td>\n",
              "    </tr>\n",
              "    <tr>\n",
              "      <th>3312</th>\n",
              "      <td>Emeril's® Original Panko Bread Crumbs 8 oz. Box</td>\n",
              "      <td>Wheat Flour,Yeast,Salt,Sugar.,Sugar Contains: ...</td>\n",
              "    </tr>\n",
              "    <tr>\n",
              "      <th>3596</th>\n",
              "      <td>Kikkoman Sweet &amp; Sour Sauce Mix, 2.125-Ounce P...</td>\n",
              "      <td>Sugar,Modified Corn Starch,Dehydrated Soy Sauc...</td>\n",
              "    </tr>\n",
              "    <tr>\n",
              "      <th>4456</th>\n",
              "      <td>Nabisco Triscuit Garden Herb Crackers, 9 oz</td>\n",
              "      <td>Whole Grain Wheat,Vegetable Oil (Soybean or Ca...</td>\n",
              "    </tr>\n",
              "    <tr>\n",
              "      <th>4283</th>\n",
              "      <td>Wise® BBQ Potato Chips 8.75 oz. Bag</td>\n",
              "      <td>Potatoes,Vegetable Oil (Contains One or More o...</td>\n",
              "    </tr>\n",
              "    <tr>\n",
              "      <th>228</th>\n",
              "      <td>Spice Islands World Flavors Louisiana Style Ca...</td>\n",
              "      <td>Dehydrated Garlic,Salt,Spices,Paprika (As Colo...</td>\n",
              "    </tr>\n",
              "  </tbody>\n",
              "</table>\n",
              "</div>"
            ],
            "text/plain": [
              "                                                   name                                     features_value\n",
              "22                Spice Islands: Powder Garlic, 2.25 Oz                                      Garlic Powder\n",
              "133                        Tone's: Powder Garlic, .9 Oz                                      Garlic Powder\n",
              "4237                          Old London Roasted Garlic  Wheat Flour,Whole Wheat Flour,Palm Oil,Oat Fib...\n",
              "1298  Chef Paul Prudhomme's Magic Vegetable Seasonin...  Salt,Dehydrated Onion,Spices,And Dehydrated Ga...\n",
              "1260  Farm Rich Buffalo Style Boneless Chicken Bites...  Chicken: White Meat Chicken,Water,Wheat Flour,...\n",
              "3312    Emeril's® Original Panko Bread Crumbs 8 oz. Box  Wheat Flour,Yeast,Salt,Sugar.,Sugar Contains: ...\n",
              "3596  Kikkoman Sweet & Sour Sauce Mix, 2.125-Ounce P...  Sugar,Modified Corn Starch,Dehydrated Soy Sauc...\n",
              "4456        Nabisco Triscuit Garden Herb Crackers, 9 oz  Whole Grain Wheat,Vegetable Oil (Soybean or Ca...\n",
              "4283                Wise® BBQ Potato Chips 8.75 oz. Bag  Potatoes,Vegetable Oil (Contains One or More o...\n",
              "228   Spice Islands World Flavors Louisiana Style Ca...  Dehydrated Garlic,Salt,Spices,Paprika (As Colo..."
            ]
          },
          "metadata": {
            "tags": []
          },
          "execution_count": 130
        }
      ]
    }
  ]
}